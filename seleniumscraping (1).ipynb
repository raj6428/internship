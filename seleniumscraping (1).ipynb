{
 "cells": [
  {
   "cell_type": "code",
   "execution_count": 3,
   "id": "e0b0c28a",
   "metadata": {},
   "outputs": [
    {
     "name": "stdout",
     "output_type": "stream",
     "text": [
      "Requirement already satisfied: selenium in c:\\users\\acer\\anaconda3\\lib\\site-packages (4.1.3)\n",
      "Requirement already satisfied: urllib3[secure,socks]~=1.26 in c:\\users\\acer\\anaconda3\\lib\\site-packages (from selenium) (1.26.4)\n",
      "Requirement already satisfied: trio-websocket~=0.9 in c:\\users\\acer\\anaconda3\\lib\\site-packages (from selenium) (0.9.2)\n",
      "Requirement already satisfied: trio~=0.17 in c:\\users\\acer\\anaconda3\\lib\\site-packages (from selenium) (0.20.0)\n",
      "Requirement already satisfied: idna in c:\\users\\acer\\anaconda3\\lib\\site-packages (from trio~=0.17->selenium) (2.10)\n",
      "Requirement already satisfied: cffi>=1.14 in c:\\users\\acer\\anaconda3\\lib\\site-packages (from trio~=0.17->selenium) (1.14.5)\n",
      "Requirement already satisfied: sniffio in c:\\users\\acer\\anaconda3\\lib\\site-packages (from trio~=0.17->selenium) (1.2.0)\n",
      "Requirement already satisfied: sortedcontainers in c:\\users\\acer\\anaconda3\\lib\\site-packages (from trio~=0.17->selenium) (2.3.0)\n",
      "Requirement already satisfied: async-generator>=1.9 in c:\\users\\acer\\anaconda3\\lib\\site-packages (from trio~=0.17->selenium) (1.10)\n",
      "Requirement already satisfied: attrs>=19.2.0 in c:\\users\\acer\\anaconda3\\lib\\site-packages (from trio~=0.17->selenium) (20.3.0)\n",
      "Requirement already satisfied: outcome in c:\\users\\acer\\anaconda3\\lib\\site-packages (from trio~=0.17->selenium) (1.1.0)\n",
      "Requirement already satisfied: pycparser in c:\\users\\acer\\anaconda3\\lib\\site-packages (from cffi>=1.14->trio~=0.17->selenium) (2.20)\n",
      "Requirement already satisfied: wsproto>=0.14 in c:\\users\\acer\\anaconda3\\lib\\site-packages (from trio-websocket~=0.9->selenium) (1.1.0)\n",
      "Requirement already satisfied: pyOpenSSL>=0.14 in c:\\users\\acer\\anaconda3\\lib\\site-packages (from urllib3[secure,socks]~=1.26->selenium) (20.0.1)\n",
      "Requirement already satisfied: cryptography>=1.3.4 in c:\\users\\acer\\anaconda3\\lib\\site-packages (from urllib3[secure,socks]~=1.26->selenium) (3.4.7)\n",
      "Requirement already satisfied: certifi in c:\\users\\acer\\anaconda3\\lib\\site-packages (from urllib3[secure,socks]~=1.26->selenium) (2020.12.5)\n",
      "Requirement already satisfied: PySocks!=1.5.7,<2.0,>=1.5.6 in c:\\users\\acer\\anaconda3\\lib\\site-packages (from urllib3[secure,socks]~=1.26->selenium) (1.7.1)\n",
      "Requirement already satisfied: six>=1.5.2 in c:\\users\\acer\\anaconda3\\lib\\site-packages (from pyOpenSSL>=0.14->urllib3[secure,socks]~=1.26->selenium) (1.15.0)\n",
      "Requirement already satisfied: h11<1,>=0.9.0 in c:\\users\\acer\\anaconda3\\lib\\site-packages (from wsproto>=0.14->trio-websocket~=0.9->selenium) (0.13.0)\n"
     ]
    }
   ],
   "source": [
    "!pip install selenium"
   ]
  },
  {
   "cell_type": "code",
   "execution_count": 59,
   "id": "727dee7e",
   "metadata": {},
   "outputs": [],
   "source": [
    "import pandas as pd\n",
    "import numpy as np\n",
    "import selenium\n",
    "from selenium import webdriver\n",
    "import warnings\n",
    "warnings.filterwarnings('ignore')\n",
    "import time\n",
    "from bs4 import BeautifulSoup"
   ]
  },
  {
   "cell_type": "markdown",
   "id": "82b55bb0",
   "metadata": {},
   "source": [
    "Q1: Write a python program to scrape data for “Data Analyst” Job position in “Bangalore” location. You have to scrape the job-title, job-location, company_name, experience_required. You have to scrape first 10 jobs data."
   ]
  },
  {
   "cell_type": "code",
   "execution_count": 113,
   "id": "4a49917c",
   "metadata": {},
   "outputs": [],
   "source": [
    "driver= webdriver.Chrome(r\"C:\\Users\\acer\\Downloads\\chromedriver_win32\\chromedriver.exe\")"
   ]
  },
  {
   "cell_type": "code",
   "execution_count": 114,
   "id": "664e797b",
   "metadata": {},
   "outputs": [],
   "source": [
    "driver.get(\"https://www.naukri.com/\")"
   ]
  },
  {
   "cell_type": "code",
   "execution_count": 115,
   "id": "4eee6705",
   "metadata": {},
   "outputs": [],
   "source": [
    "search_field_designation=driver.find_element_by_class_name(\"suggestor-input\")\n",
    "search_field_designation.send_keys(\"Data Analyst\")\n",
    "search_field_location=driver.find_element_by_xpath(\"/html/body/div/div[2]/div[3]/div/div/div[3]/div/div/div/input\")\n",
    "search_field_location.send_keys(\"Bangalore\")\n",
    "search_button=driver.find_element_by_xpath(\"/html/body/div/div[2]/div[3]/div/div/div[6]\")\n",
    "search_button.click()"
   ]
  },
  {
   "cell_type": "code",
   "execution_count": 116,
   "id": "596be674",
   "metadata": {},
   "outputs": [],
   "source": [
    "job_titles = []\n",
    "job_location = []\n",
    "company_name  = []\n",
    "experience_required = []"
   ]
  },
  {
   "cell_type": "code",
   "execution_count": 117,
   "id": "0c19df7f",
   "metadata": {},
   "outputs": [
    {
     "data": {
      "text/plain": [
       "[<selenium.webdriver.remote.webelement.WebElement (session=\"a200506781835bb390966bc6b2765bec\", element=\"4f126794-ed4c-4ca5-aacb-61e956cda74e\")>,\n",
       " <selenium.webdriver.remote.webelement.WebElement (session=\"a200506781835bb390966bc6b2765bec\", element=\"fa9bb8e4-23af-498c-9ff5-13b577325ec6\")>,\n",
       " <selenium.webdriver.remote.webelement.WebElement (session=\"a200506781835bb390966bc6b2765bec\", element=\"45c3f7e9-293f-41c3-92b3-dcb8b50aad7d\")>,\n",
       " <selenium.webdriver.remote.webelement.WebElement (session=\"a200506781835bb390966bc6b2765bec\", element=\"ecd09c7a-7ac9-430f-b856-8f9ca33d3b64\")>,\n",
       " <selenium.webdriver.remote.webelement.WebElement (session=\"a200506781835bb390966bc6b2765bec\", element=\"631ecb56-6ea2-4f6b-ab8b-5c89ea6ccd0b\")>,\n",
       " <selenium.webdriver.remote.webelement.WebElement (session=\"a200506781835bb390966bc6b2765bec\", element=\"4dbdf6e2-4698-4546-962a-07d23e8498b2\")>,\n",
       " <selenium.webdriver.remote.webelement.WebElement (session=\"a200506781835bb390966bc6b2765bec\", element=\"97e8c04e-d084-417a-a624-22d81b0eddd9\")>,\n",
       " <selenium.webdriver.remote.webelement.WebElement (session=\"a200506781835bb390966bc6b2765bec\", element=\"99187bc2-6b79-4de3-a661-eed8bedb0908\")>,\n",
       " <selenium.webdriver.remote.webelement.WebElement (session=\"a200506781835bb390966bc6b2765bec\", element=\"a9ec6f97-3885-4e86-b9de-99600cb28ff8\")>,\n",
       " <selenium.webdriver.remote.webelement.WebElement (session=\"a200506781835bb390966bc6b2765bec\", element=\"dafcc6c7-ce10-46d2-8e8b-cd0eb4d52208\")>]"
      ]
     },
     "execution_count": 117,
     "metadata": {},
     "output_type": "execute_result"
    }
   ],
   "source": [
    "title_tags=driver.find_elements_by_xpath(\"//a[@class='title fw500 ellipsis']\")\n",
    "title_tags[0:10]"
   ]
  },
  {
   "cell_type": "code",
   "execution_count": 118,
   "id": "9c7d964c",
   "metadata": {},
   "outputs": [
    {
     "data": {
      "text/plain": [
       "['Business and Data Analyst',\n",
       " 'SAS Analyst / data Analyst / Business analyst - Sas + SQL',\n",
       " 'Data Analyst I',\n",
       " 'Senior Data Analyst',\n",
       " 'Senior Data Analyst, Data & Analytics',\n",
       " 'Lead Data Analyst - Risk Analytics',\n",
       " 'Hiring - Zonal Data Analyst (Off Role) - Operations - Bangalore & Delh',\n",
       " 'Senior Data Analyst',\n",
       " 'Sr Domain Expert -Data Analysts',\n",
       " 'Associate Data Analyst']"
      ]
     },
     "execution_count": 118,
     "metadata": {},
     "output_type": "execute_result"
    }
   ],
   "source": [
    "for i in title_tags:\n",
    "    title=i.text\n",
    "    job_titles.append(title)\n",
    "job_titles[0:10]"
   ]
  },
  {
   "cell_type": "code",
   "execution_count": 119,
   "id": "4b51529f",
   "metadata": {},
   "outputs": [
    {
     "data": {
      "text/plain": [
       "[<selenium.webdriver.remote.webelement.WebElement (session=\"a200506781835bb390966bc6b2765bec\", element=\"4f126794-ed4c-4ca5-aacb-61e956cda74e\")>,\n",
       " <selenium.webdriver.remote.webelement.WebElement (session=\"a200506781835bb390966bc6b2765bec\", element=\"fa9bb8e4-23af-498c-9ff5-13b577325ec6\")>,\n",
       " <selenium.webdriver.remote.webelement.WebElement (session=\"a200506781835bb390966bc6b2765bec\", element=\"45c3f7e9-293f-41c3-92b3-dcb8b50aad7d\")>,\n",
       " <selenium.webdriver.remote.webelement.WebElement (session=\"a200506781835bb390966bc6b2765bec\", element=\"ecd09c7a-7ac9-430f-b856-8f9ca33d3b64\")>,\n",
       " <selenium.webdriver.remote.webelement.WebElement (session=\"a200506781835bb390966bc6b2765bec\", element=\"631ecb56-6ea2-4f6b-ab8b-5c89ea6ccd0b\")>,\n",
       " <selenium.webdriver.remote.webelement.WebElement (session=\"a200506781835bb390966bc6b2765bec\", element=\"4dbdf6e2-4698-4546-962a-07d23e8498b2\")>,\n",
       " <selenium.webdriver.remote.webelement.WebElement (session=\"a200506781835bb390966bc6b2765bec\", element=\"97e8c04e-d084-417a-a624-22d81b0eddd9\")>,\n",
       " <selenium.webdriver.remote.webelement.WebElement (session=\"a200506781835bb390966bc6b2765bec\", element=\"99187bc2-6b79-4de3-a661-eed8bedb0908\")>,\n",
       " <selenium.webdriver.remote.webelement.WebElement (session=\"a200506781835bb390966bc6b2765bec\", element=\"a9ec6f97-3885-4e86-b9de-99600cb28ff8\")>,\n",
       " <selenium.webdriver.remote.webelement.WebElement (session=\"a200506781835bb390966bc6b2765bec\", element=\"dafcc6c7-ce10-46d2-8e8b-cd0eb4d52208\")>]"
      ]
     },
     "execution_count": 119,
     "metadata": {},
     "output_type": "execute_result"
    }
   ],
   "source": [
    "companies_tags=driver.find_elements_by_xpath(\"//a[@class='title fw500 ellipsis']\")\n",
    "companies_tags[0:10]"
   ]
  },
  {
   "cell_type": "code",
   "execution_count": 120,
   "id": "8ddc611d",
   "metadata": {},
   "outputs": [
    {
     "data": {
      "text/plain": [
       "['Business and Data Analyst',\n",
       " 'SAS Analyst / data Analyst / Business analyst - Sas + SQL',\n",
       " 'Data Analyst I',\n",
       " 'Senior Data Analyst',\n",
       " 'Senior Data Analyst, Data & Analytics',\n",
       " 'Lead Data Analyst - Risk Analytics',\n",
       " 'Hiring - Zonal Data Analyst (Off Role) - Operations - Bangalore & Delh',\n",
       " 'Senior Data Analyst',\n",
       " 'Sr Domain Expert -Data Analysts',\n",
       " 'Associate Data Analyst']"
      ]
     },
     "execution_count": 120,
     "metadata": {},
     "output_type": "execute_result"
    }
   ],
   "source": [
    "for i in companies_tags:\n",
    "    companies=i.text\n",
    "    company_name.append(companies)\n",
    "company_name[0:10]"
   ]
  },
  {
   "cell_type": "code",
   "execution_count": 121,
   "id": "a0d8546c",
   "metadata": {},
   "outputs": [
    {
     "data": {
      "text/plain": [
       "[<selenium.webdriver.remote.webelement.WebElement (session=\"a200506781835bb390966bc6b2765bec\", element=\"f2ead38f-682f-4bf9-9fbf-3dacfb0eeaa1\")>,\n",
       " <selenium.webdriver.remote.webelement.WebElement (session=\"a200506781835bb390966bc6b2765bec\", element=\"88060401-9c40-4a96-ba3d-19cd83641696\")>,\n",
       " <selenium.webdriver.remote.webelement.WebElement (session=\"a200506781835bb390966bc6b2765bec\", element=\"9edac1bf-4b43-4f55-97e1-bc9dfc239c3c\")>,\n",
       " <selenium.webdriver.remote.webelement.WebElement (session=\"a200506781835bb390966bc6b2765bec\", element=\"c24be63b-0be3-499c-9f58-d446be238664\")>,\n",
       " <selenium.webdriver.remote.webelement.WebElement (session=\"a200506781835bb390966bc6b2765bec\", element=\"c86db997-d2a1-43bb-9306-54ddabf27821\")>,\n",
       " <selenium.webdriver.remote.webelement.WebElement (session=\"a200506781835bb390966bc6b2765bec\", element=\"1aa92f25-c91a-4103-9c06-b11072cd6e0d\")>,\n",
       " <selenium.webdriver.remote.webelement.WebElement (session=\"a200506781835bb390966bc6b2765bec\", element=\"42ba6e8d-1a12-48da-aec2-a5023e070ea4\")>,\n",
       " <selenium.webdriver.remote.webelement.WebElement (session=\"a200506781835bb390966bc6b2765bec\", element=\"41724067-28c3-46e8-8bb4-f78241930c46\")>,\n",
       " <selenium.webdriver.remote.webelement.WebElement (session=\"a200506781835bb390966bc6b2765bec\", element=\"aef76a0f-3a00-4046-a972-3d51d99ac140\")>,\n",
       " <selenium.webdriver.remote.webelement.WebElement (session=\"a200506781835bb390966bc6b2765bec\", element=\"625032a8-9521-4955-9c03-a4cd5f05bba2\")>]"
      ]
     },
     "execution_count": 121,
     "metadata": {},
     "output_type": "execute_result"
    }
   ],
   "source": [
    "experience_tags=driver.find_elements_by_xpath(\"//li[@class='fleft grey-text br2 placeHolderLi experience']/span[1]\")\n",
    "experience_tags[0:10]"
   ]
  },
  {
   "cell_type": "code",
   "execution_count": 122,
   "id": "2d838206",
   "metadata": {},
   "outputs": [
    {
     "data": {
      "text/plain": [
       "['0-5 Yrs',\n",
       " '2-7 Yrs',\n",
       " '0-3 Yrs',\n",
       " '10-12 Yrs',\n",
       " '3-5 Yrs',\n",
       " '5-11 Yrs',\n",
       " '2-7 Yrs',\n",
       " '3-6 Yrs',\n",
       " '0-10 Yrs',\n",
       " '2-7 Yrs']"
      ]
     },
     "execution_count": 122,
     "metadata": {},
     "output_type": "execute_result"
    }
   ],
   "source": [
    "for i in experience_tags:\n",
    "    experiences=i.text\n",
    "    experience_required.append(experiences)\n",
    "experience_required[0:10]"
   ]
  },
  {
   "cell_type": "code",
   "execution_count": 123,
   "id": "cedc4485",
   "metadata": {},
   "outputs": [
    {
     "data": {
      "text/plain": [
       "[<selenium.webdriver.remote.webelement.WebElement (session=\"a200506781835bb390966bc6b2765bec\", element=\"edae66f0-189b-4295-b104-1527edc7e43f\")>,\n",
       " <selenium.webdriver.remote.webelement.WebElement (session=\"a200506781835bb390966bc6b2765bec\", element=\"cc04cbb6-0947-4710-b268-cb198ac56b4f\")>,\n",
       " <selenium.webdriver.remote.webelement.WebElement (session=\"a200506781835bb390966bc6b2765bec\", element=\"88c46799-f2cb-4124-9c46-8ec1180d9a27\")>,\n",
       " <selenium.webdriver.remote.webelement.WebElement (session=\"a200506781835bb390966bc6b2765bec\", element=\"5d1a1428-e9e6-4e62-a930-c795bae3d33e\")>,\n",
       " <selenium.webdriver.remote.webelement.WebElement (session=\"a200506781835bb390966bc6b2765bec\", element=\"9e6131ca-d2be-45d7-9cbb-bf4c1ad0c1f1\")>,\n",
       " <selenium.webdriver.remote.webelement.WebElement (session=\"a200506781835bb390966bc6b2765bec\", element=\"c8def7d9-763a-476e-98e8-39a37ef1e3cd\")>,\n",
       " <selenium.webdriver.remote.webelement.WebElement (session=\"a200506781835bb390966bc6b2765bec\", element=\"fe817085-cf54-419f-ab39-719c0f29f1cd\")>,\n",
       " <selenium.webdriver.remote.webelement.WebElement (session=\"a200506781835bb390966bc6b2765bec\", element=\"f8781439-a8e1-43df-bce7-c80e3838aa5b\")>,\n",
       " <selenium.webdriver.remote.webelement.WebElement (session=\"a200506781835bb390966bc6b2765bec\", element=\"433e5612-6ca1-41d5-94ff-06ec363a8c9e\")>,\n",
       " <selenium.webdriver.remote.webelement.WebElement (session=\"a200506781835bb390966bc6b2765bec\", element=\"92a9fdaa-f630-48ce-9da3-9b68d49971b2\")>]"
      ]
     },
     "execution_count": 123,
     "metadata": {},
     "output_type": "execute_result"
    }
   ],
   "source": [
    "location_tags=driver.find_elements_by_xpath(\"//li[@class='fleft grey-text br2 placeHolderLi location']/span[1]\")\n",
    "location_tags[0:10]"
   ]
  },
  {
   "cell_type": "code",
   "execution_count": 124,
   "id": "2c5ff76b",
   "metadata": {},
   "outputs": [
    {
     "data": {
      "text/plain": [
       "['Bangalore/Bengaluru',\n",
       " 'Bangalore/Bengaluru, Delhi / NCR, Mumbai (All Areas)',\n",
       " 'Bangalore/Bengaluru',\n",
       " 'Bangalore/Bengaluru',\n",
       " 'Bangalore/Bengaluru',\n",
       " 'Bangalore/Bengaluru',\n",
       " 'New Delhi, Bangalore/Bengaluru',\n",
       " 'Chennai, Bangalore/Bengaluru',\n",
       " 'Bangalore/Bengaluru',\n",
       " 'Bangalore/Bengaluru']"
      ]
     },
     "execution_count": 124,
     "metadata": {},
     "output_type": "execute_result"
    }
   ],
   "source": [
    "for i in location_tags:\n",
    "    location=i.text\n",
    "    job_location.append(location)\n",
    "job_location[0:10]"
   ]
  },
  {
   "cell_type": "code",
   "execution_count": 125,
   "id": "83b96ac5",
   "metadata": {},
   "outputs": [
    {
     "name": "stdout",
     "output_type": "stream",
     "text": [
      "20 20 20 20\n"
     ]
    }
   ],
   "source": [
    "print(len(job_titles),len(company_name),len(experience_required),len(job_location))"
   ]
  },
  {
   "cell_type": "code",
   "execution_count": 126,
   "id": "5823381b",
   "metadata": {},
   "outputs": [],
   "source": [
    "jobs=pd.DataFrame({})\n",
    "jobs['title']=job_titles\n",
    "jobs['company']=company_name\n",
    "jobs['experience']=experience_required\n",
    "jobs['location']=job_location"
   ]
  },
  {
   "cell_type": "code",
   "execution_count": 128,
   "id": "b770c4f9",
   "metadata": {},
   "outputs": [
    {
     "data": {
      "text/html": [
       "<div>\n",
       "<style scoped>\n",
       "    .dataframe tbody tr th:only-of-type {\n",
       "        vertical-align: middle;\n",
       "    }\n",
       "\n",
       "    .dataframe tbody tr th {\n",
       "        vertical-align: top;\n",
       "    }\n",
       "\n",
       "    .dataframe thead th {\n",
       "        text-align: right;\n",
       "    }\n",
       "</style>\n",
       "<table border=\"1\" class=\"dataframe\">\n",
       "  <thead>\n",
       "    <tr style=\"text-align: right;\">\n",
       "      <th></th>\n",
       "      <th>title</th>\n",
       "      <th>company</th>\n",
       "      <th>experience</th>\n",
       "      <th>location</th>\n",
       "    </tr>\n",
       "  </thead>\n",
       "  <tbody>\n",
       "    <tr>\n",
       "      <th>0</th>\n",
       "      <td>Business and Data Analyst</td>\n",
       "      <td>Business and Data Analyst</td>\n",
       "      <td>0-5 Yrs</td>\n",
       "      <td>Bangalore/Bengaluru</td>\n",
       "    </tr>\n",
       "    <tr>\n",
       "      <th>1</th>\n",
       "      <td>SAS Analyst / data Analyst / Business analyst ...</td>\n",
       "      <td>SAS Analyst / data Analyst / Business analyst ...</td>\n",
       "      <td>2-7 Yrs</td>\n",
       "      <td>Bangalore/Bengaluru, Delhi / NCR, Mumbai (All ...</td>\n",
       "    </tr>\n",
       "    <tr>\n",
       "      <th>2</th>\n",
       "      <td>Data Analyst I</td>\n",
       "      <td>Data Analyst I</td>\n",
       "      <td>0-3 Yrs</td>\n",
       "      <td>Bangalore/Bengaluru</td>\n",
       "    </tr>\n",
       "    <tr>\n",
       "      <th>3</th>\n",
       "      <td>Senior Data Analyst</td>\n",
       "      <td>Senior Data Analyst</td>\n",
       "      <td>10-12 Yrs</td>\n",
       "      <td>Bangalore/Bengaluru</td>\n",
       "    </tr>\n",
       "    <tr>\n",
       "      <th>4</th>\n",
       "      <td>Senior Data Analyst, Data &amp; Analytics</td>\n",
       "      <td>Senior Data Analyst, Data &amp; Analytics</td>\n",
       "      <td>3-5 Yrs</td>\n",
       "      <td>Bangalore/Bengaluru</td>\n",
       "    </tr>\n",
       "    <tr>\n",
       "      <th>5</th>\n",
       "      <td>Lead Data Analyst - Risk Analytics</td>\n",
       "      <td>Lead Data Analyst - Risk Analytics</td>\n",
       "      <td>5-11 Yrs</td>\n",
       "      <td>Bangalore/Bengaluru</td>\n",
       "    </tr>\n",
       "    <tr>\n",
       "      <th>6</th>\n",
       "      <td>Hiring - Zonal Data Analyst (Off Role) - Opera...</td>\n",
       "      <td>Hiring - Zonal Data Analyst (Off Role) - Opera...</td>\n",
       "      <td>2-7 Yrs</td>\n",
       "      <td>New Delhi, Bangalore/Bengaluru</td>\n",
       "    </tr>\n",
       "    <tr>\n",
       "      <th>7</th>\n",
       "      <td>Senior Data Analyst</td>\n",
       "      <td>Senior Data Analyst</td>\n",
       "      <td>3-6 Yrs</td>\n",
       "      <td>Chennai, Bangalore/Bengaluru</td>\n",
       "    </tr>\n",
       "    <tr>\n",
       "      <th>8</th>\n",
       "      <td>Sr Domain Expert -Data Analysts</td>\n",
       "      <td>Sr Domain Expert -Data Analysts</td>\n",
       "      <td>0-10 Yrs</td>\n",
       "      <td>Bangalore/Bengaluru</td>\n",
       "    </tr>\n",
       "    <tr>\n",
       "      <th>9</th>\n",
       "      <td>Associate Data Analyst</td>\n",
       "      <td>Associate Data Analyst</td>\n",
       "      <td>2-7 Yrs</td>\n",
       "      <td>Bangalore/Bengaluru</td>\n",
       "    </tr>\n",
       "  </tbody>\n",
       "</table>\n",
       "</div>"
      ],
      "text/plain": [
       "                                               title  \\\n",
       "0                          Business and Data Analyst   \n",
       "1  SAS Analyst / data Analyst / Business analyst ...   \n",
       "2                                     Data Analyst I   \n",
       "3                                Senior Data Analyst   \n",
       "4              Senior Data Analyst, Data & Analytics   \n",
       "5                 Lead Data Analyst - Risk Analytics   \n",
       "6  Hiring - Zonal Data Analyst (Off Role) - Opera...   \n",
       "7                                Senior Data Analyst   \n",
       "8                    Sr Domain Expert -Data Analysts   \n",
       "9                             Associate Data Analyst   \n",
       "\n",
       "                                             company experience  \\\n",
       "0                          Business and Data Analyst    0-5 Yrs   \n",
       "1  SAS Analyst / data Analyst / Business analyst ...    2-7 Yrs   \n",
       "2                                     Data Analyst I    0-3 Yrs   \n",
       "3                                Senior Data Analyst  10-12 Yrs   \n",
       "4              Senior Data Analyst, Data & Analytics    3-5 Yrs   \n",
       "5                 Lead Data Analyst - Risk Analytics   5-11 Yrs   \n",
       "6  Hiring - Zonal Data Analyst (Off Role) - Opera...    2-7 Yrs   \n",
       "7                                Senior Data Analyst    3-6 Yrs   \n",
       "8                    Sr Domain Expert -Data Analysts   0-10 Yrs   \n",
       "9                             Associate Data Analyst    2-7 Yrs   \n",
       "\n",
       "                                            location  \n",
       "0                                Bangalore/Bengaluru  \n",
       "1  Bangalore/Bengaluru, Delhi / NCR, Mumbai (All ...  \n",
       "2                                Bangalore/Bengaluru  \n",
       "3                                Bangalore/Bengaluru  \n",
       "4                                Bangalore/Bengaluru  \n",
       "5                                Bangalore/Bengaluru  \n",
       "6                     New Delhi, Bangalore/Bengaluru  \n",
       "7                       Chennai, Bangalore/Bengaluru  \n",
       "8                                Bangalore/Bengaluru  \n",
       "9                                Bangalore/Bengaluru  "
      ]
     },
     "execution_count": 128,
     "metadata": {},
     "output_type": "execute_result"
    }
   ],
   "source": [
    "jobs.head(10)"
   ]
  },
  {
   "cell_type": "markdown",
   "id": "3590b09f",
   "metadata": {},
   "source": [
    "Q3: In this question you have to scrape data using the filters available on the webpage. You have to use the location and salary filter. You have to scrape data for “Data Scientist” designation for first 10 job results. You have to scrape the job-title, job-location, company_name, experience_required."
   ]
  },
  {
   "cell_type": "code",
   "execution_count": 283,
   "id": "cfb829cd",
   "metadata": {},
   "outputs": [],
   "source": [
    "driver= webdriver.Chrome(r\"C:\\Users\\acer\\Downloads\\chromedriver_win32\\chromedriver.exe\")"
   ]
  },
  {
   "cell_type": "code",
   "execution_count": 284,
   "id": "edb14796",
   "metadata": {},
   "outputs": [],
   "source": [
    "driver.get(\"https://www.naukri.com/\")"
   ]
  },
  {
   "cell_type": "code",
   "execution_count": 285,
   "id": "98fc9583",
   "metadata": {},
   "outputs": [],
   "source": [
    "search_field_designation=driver.find_element_by_class_name(\"suggestor-input\")\n",
    "search_field_designation.send_keys(\"Data Analyst\")\n",
    "search_button=driver.find_element_by_xpath(\"/html/body/div/div[2]/div[3]/div/div/div[6]\")\n",
    "search_button.click()"
   ]
  },
  {
   "cell_type": "code",
   "execution_count": 286,
   "id": "dd19daa9",
   "metadata": {},
   "outputs": [],
   "source": [
    "job_titles = []\n",
    "job_location = []\n",
    "company_name  = []\n",
    "experience_required = []"
   ]
  },
  {
   "cell_type": "code",
   "execution_count": 287,
   "id": "b9726607",
   "metadata": {},
   "outputs": [
    {
     "data": {
      "text/plain": [
       "[<selenium.webdriver.remote.webelement.WebElement (session=\"b85334b831a4e2e10b8ce8a520236aa5\", element=\"1ba45613-5444-4297-a47a-df24285c9d1b\")>,\n",
       " <selenium.webdriver.remote.webelement.WebElement (session=\"b85334b831a4e2e10b8ce8a520236aa5\", element=\"ecfd2101-e240-46ed-be15-1bc2677a3873\")>,\n",
       " <selenium.webdriver.remote.webelement.WebElement (session=\"b85334b831a4e2e10b8ce8a520236aa5\", element=\"43ba9711-93a4-4b3f-a213-196445c6b529\")>,\n",
       " <selenium.webdriver.remote.webelement.WebElement (session=\"b85334b831a4e2e10b8ce8a520236aa5\", element=\"e536ce36-00d1-4d63-866a-b32a7ca9f32a\")>,\n",
       " <selenium.webdriver.remote.webelement.WebElement (session=\"b85334b831a4e2e10b8ce8a520236aa5\", element=\"408d071b-0083-42ae-8107-d8eaf76afc92\")>,\n",
       " <selenium.webdriver.remote.webelement.WebElement (session=\"b85334b831a4e2e10b8ce8a520236aa5\", element=\"5e994fc9-5e0e-4f2f-b4cd-0152cc69c096\")>,\n",
       " <selenium.webdriver.remote.webelement.WebElement (session=\"b85334b831a4e2e10b8ce8a520236aa5\", element=\"3fc930c8-709a-4914-9812-02554f0a4ed0\")>,\n",
       " <selenium.webdriver.remote.webelement.WebElement (session=\"b85334b831a4e2e10b8ce8a520236aa5\", element=\"ca1aa833-7902-4f83-97b0-b7947e6b699b\")>,\n",
       " <selenium.webdriver.remote.webelement.WebElement (session=\"b85334b831a4e2e10b8ce8a520236aa5\", element=\"941ab5f2-7831-4067-af77-1f2fcf2ea4d6\")>,\n",
       " <selenium.webdriver.remote.webelement.WebElement (session=\"b85334b831a4e2e10b8ce8a520236aa5\", element=\"47557da3-0b20-4272-a0dc-774516adb461\")>]"
      ]
     },
     "execution_count": 287,
     "metadata": {},
     "output_type": "execute_result"
    }
   ],
   "source": [
    "title_tags=driver.find_elements_by_xpath(\"//a[@class='title fw500 ellipsis']\")\n",
    "title_tags[0:10]"
   ]
  },
  {
   "cell_type": "code",
   "execution_count": 288,
   "id": "5b1e8472",
   "metadata": {},
   "outputs": [
    {
     "data": {
      "text/plain": [
       "['Data Analyst',\n",
       " 'Job opportunity For the position of Financial Data Analyst',\n",
       " 'Hiring - Zonal Data Analyst (Off Role) - Operations - Bangalore & Delh',\n",
       " 'Urgent opening For AM - Data Analyst Analytics role',\n",
       " 'Hiring - Healthcare Data Analyst- US Healthcare- Night Shifts',\n",
       " 'Data Analyst',\n",
       " 'Amex is hiring For Analyst/ Sr. Analyst - Data Governance',\n",
       " 'Jeevansathi.com is hiring For Product Operations - Data Analyst',\n",
       " 'Sr . Data Analyst',\n",
       " 'Data Analyst']"
      ]
     },
     "execution_count": 288,
     "metadata": {},
     "output_type": "execute_result"
    }
   ],
   "source": [
    "for i in title_tags:\n",
    "    title=i.text\n",
    "    job_titles.append(title)\n",
    "job_titles[0:10]"
   ]
  },
  {
   "cell_type": "code",
   "execution_count": 289,
   "id": "d0f0b005",
   "metadata": {},
   "outputs": [
    {
     "data": {
      "text/plain": [
       "[<selenium.webdriver.remote.webelement.WebElement (session=\"b85334b831a4e2e10b8ce8a520236aa5\", element=\"ca62ef37-922c-4a73-9491-267a601749af\")>,\n",
       " <selenium.webdriver.remote.webelement.WebElement (session=\"b85334b831a4e2e10b8ce8a520236aa5\", element=\"d3e3a032-3896-4e98-bed3-0119fab1bf1f\")>,\n",
       " <selenium.webdriver.remote.webelement.WebElement (session=\"b85334b831a4e2e10b8ce8a520236aa5\", element=\"3c41361b-1887-431f-89e1-3b09a5cf5d93\")>,\n",
       " <selenium.webdriver.remote.webelement.WebElement (session=\"b85334b831a4e2e10b8ce8a520236aa5\", element=\"2ee58d5f-5864-44b8-8e63-41fb0bb9e394\")>,\n",
       " <selenium.webdriver.remote.webelement.WebElement (session=\"b85334b831a4e2e10b8ce8a520236aa5\", element=\"ad6f3d5c-bb15-4dea-b544-f9fb60855c06\")>,\n",
       " <selenium.webdriver.remote.webelement.WebElement (session=\"b85334b831a4e2e10b8ce8a520236aa5\", element=\"13f2a329-cfe6-46d2-b99b-d859d1960067\")>,\n",
       " <selenium.webdriver.remote.webelement.WebElement (session=\"b85334b831a4e2e10b8ce8a520236aa5\", element=\"52f73a16-a733-481f-9db2-aa564f4943d6\")>,\n",
       " <selenium.webdriver.remote.webelement.WebElement (session=\"b85334b831a4e2e10b8ce8a520236aa5\", element=\"1b0b0c53-d3ba-4fb5-b33d-91cb5cc9b580\")>,\n",
       " <selenium.webdriver.remote.webelement.WebElement (session=\"b85334b831a4e2e10b8ce8a520236aa5\", element=\"3b65e53c-e671-442e-90e4-33ff5dd39386\")>,\n",
       " <selenium.webdriver.remote.webelement.WebElement (session=\"b85334b831a4e2e10b8ce8a520236aa5\", element=\"8ffd7ee9-3b38-4b94-a1ae-f720543704bd\")>]"
      ]
     },
     "execution_count": 289,
     "metadata": {},
     "output_type": "execute_result"
    }
   ],
   "source": [
    "location_tags=driver.find_elements_by_xpath(\"//li[@class='fleft grey-text br2 placeHolderLi location']/span[1]\")\n",
    "location_tags[0:10]"
   ]
  },
  {
   "cell_type": "code",
   "execution_count": 290,
   "id": "9a8f022d",
   "metadata": {},
   "outputs": [
    {
     "data": {
      "text/plain": [
       "['Gurgaon/Gurugram',\n",
       " 'Gurgaon/Gurugram',\n",
       " 'New Delhi, Bangalore/Bengaluru',\n",
       " 'Gurgaon/Gurugram',\n",
       " 'Noida',\n",
       " 'Gurgaon/Gurugram, Delhi / NCR',\n",
       " 'Gurgaon/Gurugram, Delhi / NCR',\n",
       " 'Noida',\n",
       " 'Gurgaon/Gurugram',\n",
       " 'Gurgaon/Gurugram']"
      ]
     },
     "execution_count": 290,
     "metadata": {},
     "output_type": "execute_result"
    }
   ],
   "source": [
    "for i in location_tags:\n",
    "    location=i.text\n",
    "    job_location.append(location)\n",
    "job_location[0:10]"
   ]
  },
  {
   "cell_type": "code",
   "execution_count": 291,
   "id": "d35e7e43",
   "metadata": {},
   "outputs": [
    {
     "data": {
      "text/plain": [
       "[<selenium.webdriver.remote.webelement.WebElement (session=\"b85334b831a4e2e10b8ce8a520236aa5\", element=\"9dacff4d-78fb-4963-b1a3-e91f118b511e\")>,\n",
       " <selenium.webdriver.remote.webelement.WebElement (session=\"b85334b831a4e2e10b8ce8a520236aa5\", element=\"c75f5695-2556-43ad-b06b-e10439030ce2\")>,\n",
       " <selenium.webdriver.remote.webelement.WebElement (session=\"b85334b831a4e2e10b8ce8a520236aa5\", element=\"af94ebfe-9bdc-450a-bcb3-88e58bc82e26\")>,\n",
       " <selenium.webdriver.remote.webelement.WebElement (session=\"b85334b831a4e2e10b8ce8a520236aa5\", element=\"550b1b33-ba4b-4af2-a790-d3a35e4e9117\")>,\n",
       " <selenium.webdriver.remote.webelement.WebElement (session=\"b85334b831a4e2e10b8ce8a520236aa5\", element=\"40a6ac8e-3277-4276-a6ea-87af275e5e8a\")>,\n",
       " <selenium.webdriver.remote.webelement.WebElement (session=\"b85334b831a4e2e10b8ce8a520236aa5\", element=\"ed158ed0-d973-4277-acc5-8762b0e40380\")>,\n",
       " <selenium.webdriver.remote.webelement.WebElement (session=\"b85334b831a4e2e10b8ce8a520236aa5\", element=\"5a56f023-e993-4563-9661-157ee95cf2bc\")>,\n",
       " <selenium.webdriver.remote.webelement.WebElement (session=\"b85334b831a4e2e10b8ce8a520236aa5\", element=\"049aa693-0fdb-40e9-a6e6-c0b53bb60e43\")>,\n",
       " <selenium.webdriver.remote.webelement.WebElement (session=\"b85334b831a4e2e10b8ce8a520236aa5\", element=\"8e179a42-f193-4246-b293-5db4322cb883\")>,\n",
       " <selenium.webdriver.remote.webelement.WebElement (session=\"b85334b831a4e2e10b8ce8a520236aa5\", element=\"0e950722-1f20-4643-a913-86d873d640a9\")>]"
      ]
     },
     "execution_count": 291,
     "metadata": {},
     "output_type": "execute_result"
    }
   ],
   "source": [
    "company_tags=driver.find_elements_by_xpath(\"//a[@class='subTitle ellipsis fleft']\")\n",
    "company_tags[0:10]"
   ]
  },
  {
   "cell_type": "code",
   "execution_count": 292,
   "id": "251789d7",
   "metadata": {},
   "outputs": [
    {
     "data": {
      "text/plain": [
       "['TOTAL MARKETING SUPPORT INDIA PRIVATE LIMITED',\n",
       " 'NIRVANA SOLUTIONS INDIA PRIVATE LIMITED',\n",
       " 'Rupeek',\n",
       " 'Pramerica Life',\n",
       " 'KOZENT TEC PRIVATE LIMITED',\n",
       " 'West Wind Retail Pvt. Ltd.',\n",
       " 'AMERICAN EXPRESS',\n",
       " 'Info Edge India',\n",
       " 'Also Energy',\n",
       " 'Redian Software Pvt Ltd']"
      ]
     },
     "execution_count": 292,
     "metadata": {},
     "output_type": "execute_result"
    }
   ],
   "source": [
    "for i in company_tags:\n",
    "    company=i.text\n",
    "    company_name.append(company)\n",
    "company_name[0:10]"
   ]
  },
  {
   "cell_type": "code",
   "execution_count": 296,
   "id": "3e7da6ec",
   "metadata": {},
   "outputs": [
    {
     "data": {
      "text/plain": [
       "[<selenium.webdriver.remote.webelement.WebElement (session=\"b85334b831a4e2e10b8ce8a520236aa5\", element=\"c611baf9-21f8-417f-b245-eed6a33c8bdb\")>,\n",
       " <selenium.webdriver.remote.webelement.WebElement (session=\"b85334b831a4e2e10b8ce8a520236aa5\", element=\"18b312fe-5bfc-4e8f-bd47-ce8944251d37\")>,\n",
       " <selenium.webdriver.remote.webelement.WebElement (session=\"b85334b831a4e2e10b8ce8a520236aa5\", element=\"71ecf1ae-930b-4032-b72c-feac60b0c447\")>,\n",
       " <selenium.webdriver.remote.webelement.WebElement (session=\"b85334b831a4e2e10b8ce8a520236aa5\", element=\"de48550a-9ff8-4793-921b-16432c2ce38d\")>,\n",
       " <selenium.webdriver.remote.webelement.WebElement (session=\"b85334b831a4e2e10b8ce8a520236aa5\", element=\"246d5204-4ce1-4026-9a72-5d7e79e7f06f\")>,\n",
       " <selenium.webdriver.remote.webelement.WebElement (session=\"b85334b831a4e2e10b8ce8a520236aa5\", element=\"98b2f97b-bb83-475c-b4ec-3d373ab6cc72\")>,\n",
       " <selenium.webdriver.remote.webelement.WebElement (session=\"b85334b831a4e2e10b8ce8a520236aa5\", element=\"b9a6978c-3460-4120-b3ba-7b2715b9cdd2\")>,\n",
       " <selenium.webdriver.remote.webelement.WebElement (session=\"b85334b831a4e2e10b8ce8a520236aa5\", element=\"b7f93235-76a6-4c33-b450-6ac6c56de21e\")>,\n",
       " <selenium.webdriver.remote.webelement.WebElement (session=\"b85334b831a4e2e10b8ce8a520236aa5\", element=\"42618037-b05e-413d-816f-2879435a9303\")>,\n",
       " <selenium.webdriver.remote.webelement.WebElement (session=\"b85334b831a4e2e10b8ce8a520236aa5\", element=\"2e4dc276-b3d0-4be6-b12b-be619b0c0084\")>]"
      ]
     },
     "execution_count": 296,
     "metadata": {},
     "output_type": "execute_result"
    }
   ],
   "source": [
    "experience_tags=driver.find_elements_by_xpath(\"//li[@class='fleft grey-text br2 placeHolderLi experience']/span[1]\")\n",
    "experience_tags[0:10]"
   ]
  },
  {
   "cell_type": "code",
   "execution_count": 297,
   "id": "ff669fc9",
   "metadata": {},
   "outputs": [
    {
     "data": {
      "text/plain": [
       "['03 May',\n",
       " '0-5 Yrs',\n",
       " '2-7 Yrs',\n",
       " '4-6 Yrs',\n",
       " '2-6 Yrs',\n",
       " '3-6 Yrs',\n",
       " '1-6 Yrs',\n",
       " '1-3 Yrs',\n",
       " '3-6 Yrs',\n",
       " '3-5 Yrs']"
      ]
     },
     "execution_count": 297,
     "metadata": {},
     "output_type": "execute_result"
    }
   ],
   "source": [
    "for i in experience_tags:\n",
    "    experience=i.text\n",
    "    experience_required.append(experience)\n",
    "experience_required[0:10]"
   ]
  },
  {
   "cell_type": "code",
   "execution_count": 298,
   "id": "0b3d2588",
   "metadata": {},
   "outputs": [
    {
     "name": "stdout",
     "output_type": "stream",
     "text": [
      "20 20 20 20\n"
     ]
    }
   ],
   "source": [
    "print(len(job_titles),len(job_location),len(company_name),len(experience_required))"
   ]
  },
  {
   "cell_type": "code",
   "execution_count": 299,
   "id": "4e359073",
   "metadata": {},
   "outputs": [],
   "source": [
    "job=pd.DataFrame({})\n",
    "job['title']=job_titles\n",
    "job['company']=company_name\n",
    "job['experience']=experience_required\n",
    "job['location']=job_location"
   ]
  },
  {
   "cell_type": "code",
   "execution_count": 300,
   "id": "07808cd2",
   "metadata": {},
   "outputs": [
    {
     "data": {
      "text/html": [
       "<div>\n",
       "<style scoped>\n",
       "    .dataframe tbody tr th:only-of-type {\n",
       "        vertical-align: middle;\n",
       "    }\n",
       "\n",
       "    .dataframe tbody tr th {\n",
       "        vertical-align: top;\n",
       "    }\n",
       "\n",
       "    .dataframe thead th {\n",
       "        text-align: right;\n",
       "    }\n",
       "</style>\n",
       "<table border=\"1\" class=\"dataframe\">\n",
       "  <thead>\n",
       "    <tr style=\"text-align: right;\">\n",
       "      <th></th>\n",
       "      <th>title</th>\n",
       "      <th>company</th>\n",
       "      <th>experience</th>\n",
       "      <th>location</th>\n",
       "    </tr>\n",
       "  </thead>\n",
       "  <tbody>\n",
       "    <tr>\n",
       "      <th>0</th>\n",
       "      <td>Data Analyst</td>\n",
       "      <td>TOTAL MARKETING SUPPORT INDIA PRIVATE LIMITED</td>\n",
       "      <td>03 May</td>\n",
       "      <td>Gurgaon/Gurugram</td>\n",
       "    </tr>\n",
       "    <tr>\n",
       "      <th>1</th>\n",
       "      <td>Job opportunity For the position of Financial ...</td>\n",
       "      <td>NIRVANA SOLUTIONS INDIA PRIVATE LIMITED</td>\n",
       "      <td>0-5 Yrs</td>\n",
       "      <td>Gurgaon/Gurugram</td>\n",
       "    </tr>\n",
       "    <tr>\n",
       "      <th>2</th>\n",
       "      <td>Hiring - Zonal Data Analyst (Off Role) - Opera...</td>\n",
       "      <td>Rupeek</td>\n",
       "      <td>2-7 Yrs</td>\n",
       "      <td>New Delhi, Bangalore/Bengaluru</td>\n",
       "    </tr>\n",
       "    <tr>\n",
       "      <th>3</th>\n",
       "      <td>Urgent opening For AM - Data Analyst Analytics...</td>\n",
       "      <td>Pramerica Life</td>\n",
       "      <td>4-6 Yrs</td>\n",
       "      <td>Gurgaon/Gurugram</td>\n",
       "    </tr>\n",
       "    <tr>\n",
       "      <th>4</th>\n",
       "      <td>Hiring - Healthcare Data Analyst- US Healthcar...</td>\n",
       "      <td>KOZENT TEC PRIVATE LIMITED</td>\n",
       "      <td>2-6 Yrs</td>\n",
       "      <td>Noida</td>\n",
       "    </tr>\n",
       "    <tr>\n",
       "      <th>5</th>\n",
       "      <td>Data Analyst</td>\n",
       "      <td>West Wind Retail Pvt. Ltd.</td>\n",
       "      <td>3-6 Yrs</td>\n",
       "      <td>Gurgaon/Gurugram, Delhi / NCR</td>\n",
       "    </tr>\n",
       "    <tr>\n",
       "      <th>6</th>\n",
       "      <td>Amex is hiring For Analyst/ Sr. Analyst - Data...</td>\n",
       "      <td>AMERICAN EXPRESS</td>\n",
       "      <td>1-6 Yrs</td>\n",
       "      <td>Gurgaon/Gurugram, Delhi / NCR</td>\n",
       "    </tr>\n",
       "    <tr>\n",
       "      <th>7</th>\n",
       "      <td>Jeevansathi.com is hiring For Product Operatio...</td>\n",
       "      <td>Info Edge India</td>\n",
       "      <td>1-3 Yrs</td>\n",
       "      <td>Noida</td>\n",
       "    </tr>\n",
       "    <tr>\n",
       "      <th>8</th>\n",
       "      <td>Sr . Data Analyst</td>\n",
       "      <td>Also Energy</td>\n",
       "      <td>3-6 Yrs</td>\n",
       "      <td>Gurgaon/Gurugram</td>\n",
       "    </tr>\n",
       "    <tr>\n",
       "      <th>9</th>\n",
       "      <td>Data Analyst</td>\n",
       "      <td>Redian Software Pvt Ltd</td>\n",
       "      <td>3-5 Yrs</td>\n",
       "      <td>Gurgaon/Gurugram</td>\n",
       "    </tr>\n",
       "  </tbody>\n",
       "</table>\n",
       "</div>"
      ],
      "text/plain": [
       "                                               title  \\\n",
       "0                                       Data Analyst   \n",
       "1  Job opportunity For the position of Financial ...   \n",
       "2  Hiring - Zonal Data Analyst (Off Role) - Opera...   \n",
       "3  Urgent opening For AM - Data Analyst Analytics...   \n",
       "4  Hiring - Healthcare Data Analyst- US Healthcar...   \n",
       "5                                       Data Analyst   \n",
       "6  Amex is hiring For Analyst/ Sr. Analyst - Data...   \n",
       "7  Jeevansathi.com is hiring For Product Operatio...   \n",
       "8                                  Sr . Data Analyst   \n",
       "9                                       Data Analyst   \n",
       "\n",
       "                                         company experience  \\\n",
       "0  TOTAL MARKETING SUPPORT INDIA PRIVATE LIMITED     03 May   \n",
       "1        NIRVANA SOLUTIONS INDIA PRIVATE LIMITED    0-5 Yrs   \n",
       "2                                         Rupeek    2-7 Yrs   \n",
       "3                                 Pramerica Life    4-6 Yrs   \n",
       "4                     KOZENT TEC PRIVATE LIMITED    2-6 Yrs   \n",
       "5                     West Wind Retail Pvt. Ltd.    3-6 Yrs   \n",
       "6                               AMERICAN EXPRESS    1-6 Yrs   \n",
       "7                                Info Edge India    1-3 Yrs   \n",
       "8                                    Also Energy    3-6 Yrs   \n",
       "9                        Redian Software Pvt Ltd    3-5 Yrs   \n",
       "\n",
       "                         location  \n",
       "0                Gurgaon/Gurugram  \n",
       "1                Gurgaon/Gurugram  \n",
       "2  New Delhi, Bangalore/Bengaluru  \n",
       "3                Gurgaon/Gurugram  \n",
       "4                           Noida  \n",
       "5   Gurgaon/Gurugram, Delhi / NCR  \n",
       "6   Gurgaon/Gurugram, Delhi / NCR  \n",
       "7                           Noida  \n",
       "8                Gurgaon/Gurugram  \n",
       "9                Gurgaon/Gurugram  "
      ]
     },
     "execution_count": 300,
     "metadata": {},
     "output_type": "execute_result"
    }
   ],
   "source": [
    "job.head(10)"
   ]
  },
  {
   "cell_type": "markdown",
   "id": "464101ed",
   "metadata": {},
   "source": [
    "Q4: Scrape data of first 100 sunglasses listings on flipkart.com. You have to scrape four attributes:\n",
    "1. Brand\n",
    "2. Product Description\n",
    "3. Price\n"
   ]
  },
  {
   "cell_type": "code",
   "execution_count": 22,
   "id": "f38131fb",
   "metadata": {},
   "outputs": [],
   "source": [
    "driver= webdriver.Chrome(r\"C:\\Users\\acer\\Downloads\\chromedriver_win32\\chromedriver.exe\")"
   ]
  },
  {
   "cell_type": "code",
   "execution_count": 23,
   "id": "95a25fcb",
   "metadata": {},
   "outputs": [],
   "source": [
    "driver.get(\"https://www.flipkart.com/\")"
   ]
  },
  {
   "cell_type": "code",
   "execution_count": 24,
   "id": "14e55146",
   "metadata": {},
   "outputs": [],
   "source": [
    "driver.find_element_by_xpath(\"//input[@title='Search for products, brands and more']\").send_keys(\"sunglasses\")"
   ]
  },
  {
   "cell_type": "code",
   "execution_count": 27,
   "id": "b80e9bec",
   "metadata": {},
   "outputs": [],
   "source": [
    "driver.find_element_by_xpath(\"//button[@type='submit']\").click()"
   ]
  },
  {
   "cell_type": "code",
   "execution_count": 53,
   "id": "63b05617",
   "metadata": {},
   "outputs": [],
   "source": [
    "pages = np.arange(0,3,1)"
   ]
  },
  {
   "cell_type": "code",
   "execution_count": 54,
   "id": "9d3c860c",
   "metadata": {},
   "outputs": [],
   "source": [
    "for page in pages:\n",
    "        page = \"https://www.flipkart.com/search?q=sunglasses&otracker=search&otracker1=search&marketplace=FLIPKART&as-show=on&as=off&page=\"+str(page)"
   ]
  },
  {
   "cell_type": "code",
   "execution_count": 57,
   "id": "3c79e23b",
   "metadata": {},
   "outputs": [],
   "source": [
    "driver =webdriver.Chrome(r\"C:\\Users\\acer\\Downloads\\chromedriver_win32\\chromedriver.exe\")\n",
    "driver.get(page)"
   ]
  },
  {
   "cell_type": "code",
   "execution_count": 60,
   "id": "8c34900f",
   "metadata": {},
   "outputs": [],
   "source": [
    "soup = BeautifulSoup(driver.page_source, 'html.parser')"
   ]
  },
  {
   "cell_type": "code",
   "execution_count": 61,
   "id": "b7ab5b86",
   "metadata": {},
   "outputs": [],
   "source": [
    "brand_name = []\n",
    "prod_description = []\n",
    "prod_price = []\n",
    "prod_discount = []"
   ]
  },
  {
   "cell_type": "code",
   "execution_count": 62,
   "id": "45ab3113",
   "metadata": {},
   "outputs": [],
   "source": [
    "for i in driver.find_elements_by_xpath(\"//div[@class='_2WkVRV']\"):\n",
    "    brand_name.append(i.text)\n"
   ]
  },
  {
   "cell_type": "code",
   "execution_count": 63,
   "id": "985ea971",
   "metadata": {},
   "outputs": [
    {
     "data": {
      "text/plain": [
       "['HIPPON',\n",
       " 'GANSTA',\n",
       " 'New Specs',\n",
       " 'Fastrack',\n",
       " 'AISLIN',\n",
       " 'PHENOMENAL',\n",
       " 'Fastrack',\n",
       " 'AISLIN',\n",
       " 'kingsunglasses',\n",
       " 'kingsunglasses',\n",
       " 'New Specs',\n",
       " 'SHAAH COLLECTIONS',\n",
       " 'kingsunglasses',\n",
       " 'Lee Topper',\n",
       " 'Silver Kartz',\n",
       " 'PIRASO',\n",
       " 'ROZZETTA CRAFT',\n",
       " 'Fastrack',\n",
       " 'hipe',\n",
       " 'Roadster',\n",
       " 'ROZZETTA CRAFT',\n",
       " 'kingsunglasses',\n",
       " 'kingsunglasses',\n",
       " 'Poloport',\n",
       " 'PHENOMENAL',\n",
       " 'hipe',\n",
       " 'kingsunglasses',\n",
       " 'kingsunglasses',\n",
       " 'kingsunglasses',\n",
       " 'hipe',\n",
       " 'ROZZETTA CRAFT',\n",
       " 'VINCENT CHASE',\n",
       " 'Poloport',\n",
       " 'ROZZETTA CRAFT',\n",
       " 'Rich Club',\n",
       " 'Fastrack',\n",
       " 'New Specs',\n",
       " 'ROZZETTA CRAFT',\n",
       " 'Fastrack',\n",
       " 'AISLIN']"
      ]
     },
     "execution_count": 63,
     "metadata": {},
     "output_type": "execute_result"
    }
   ],
   "source": [
    "brand_name"
   ]
  },
  {
   "cell_type": "code",
   "execution_count": 64,
   "id": "f7a73542",
   "metadata": {},
   "outputs": [],
   "source": [
    "for i in driver.find_elements_by_xpath(\"//a[@class = 'IRpwTa]']\"):\n",
    "    prod_description.append(i.text)"
   ]
  },
  {
   "cell_type": "raw",
   "id": "84dd1164",
   "metadata": {},
   "source": [
    "prod_description"
   ]
  },
  {
   "cell_type": "code",
   "execution_count": 65,
   "id": "6635cef6",
   "metadata": {},
   "outputs": [],
   "source": [
    "for i in driver.find_elements_by_xpath(\"//div[@class='_30jeq3']\"):\n",
    "    prod_price.append(i.text)"
   ]
  },
  {
   "cell_type": "code",
   "execution_count": 66,
   "id": "58915a7a",
   "metadata": {},
   "outputs": [
    {
     "data": {
      "text/plain": [
       "['₹181',\n",
       " '₹221',\n",
       " '₹265',\n",
       " '₹575',\n",
       " '₹498',\n",
       " '₹379',\n",
       " '₹809',\n",
       " '₹498',\n",
       " '₹245',\n",
       " '₹189',\n",
       " '₹189',\n",
       " '₹213',\n",
       " '₹329',\n",
       " '₹276',\n",
       " '₹320',\n",
       " '₹199',\n",
       " '₹399',\n",
       " '₹639',\n",
       " '₹210',\n",
       " '₹649',\n",
       " '₹399',\n",
       " '₹299',\n",
       " '₹299',\n",
       " '₹331',\n",
       " '₹369',\n",
       " '₹179',\n",
       " '₹269',\n",
       " '₹269',\n",
       " '₹210',\n",
       " '₹179',\n",
       " '₹398',\n",
       " '₹799',\n",
       " '₹249',\n",
       " '₹349',\n",
       " '₹253',\n",
       " '₹719',\n",
       " '₹299',\n",
       " '₹399',\n",
       " '₹1,599',\n",
       " '₹775']"
      ]
     },
     "execution_count": 66,
     "metadata": {},
     "output_type": "execute_result"
    }
   ],
   "source": [
    "prod_price"
   ]
  },
  {
   "cell_type": "code",
   "execution_count": 67,
   "id": "01bc027b",
   "metadata": {},
   "outputs": [],
   "source": [
    "for i in driver.find_elements_by_xpath(\"//div[@class='_3Ay6Sb']\"):\n",
    "    prod_discount.append(i.text)"
   ]
  },
  {
   "cell_type": "code",
   "execution_count": 68,
   "id": "02a68489",
   "metadata": {},
   "outputs": [
    {
     "data": {
      "text/plain": [
       "['81% off',\n",
       " '87% off',\n",
       " '79% off',\n",
       " '28% off',\n",
       " '67% off',\n",
       " '81% off',\n",
       " '10% off',\n",
       " '70% off',\n",
       " '81% off',\n",
       " '85% off',\n",
       " '88% off',\n",
       " '78% off',\n",
       " '79% off',\n",
       " '88% off',\n",
       " '78% off',\n",
       " '87% off',\n",
       " '80% off',\n",
       " '20% off',\n",
       " '84% off',\n",
       " '35% off',\n",
       " '80% off',\n",
       " '82% off',\n",
       " '85% off',\n",
       " '81% off',\n",
       " '81% off',\n",
       " '86% off',\n",
       " '82% off',\n",
       " '82% off',\n",
       " '78% off',\n",
       " '85% off',\n",
       " '80% off',\n",
       " '68% off',\n",
       " '87% off',\n",
       " '82% off',\n",
       " '68% off',\n",
       " '20% off',\n",
       " '85% off',\n",
       " '85% off',\n",
       " '20% off',\n",
       " '79% off']"
      ]
     },
     "execution_count": 68,
     "metadata": {},
     "output_type": "execute_result"
    }
   ],
   "source": [
    " prod_discount"
   ]
  },
  {
   "cell_type": "code",
   "execution_count": null,
   "id": "25d59ac2",
   "metadata": {},
   "outputs": [],
   "source": [
    "sunglasses=pd.DataFrame({})\n",
    "sunglasses['brand']=brand_name\n",
    "sunglasses['product description']=prod_description\n",
    "sunglasses['product price']=prod_price\n",
    "sunglasses['discount']=prod_discount "
   ]
  },
  {
   "cell_type": "markdown",
   "id": "2dcdf275",
   "metadata": {},
   "source": [
    "Q5: Scrape 100 reviews data from flipkart.com for iphone11 phone."
   ]
  },
  {
   "cell_type": "code",
   "execution_count": 70,
   "id": "193aa9d9",
   "metadata": {},
   "outputs": [],
   "source": [
    "ratings = []\n",
    "review_summary = []\n",
    "full_review = []"
   ]
  },
  {
   "cell_type": "code",
   "execution_count": 71,
   "id": "1a3976a2",
   "metadata": {},
   "outputs": [],
   "source": [
    "pages = np.arange(0,11,1)"
   ]
  },
  {
   "cell_type": "code",
   "execution_count": 73,
   "id": "c2dcd552",
   "metadata": {},
   "outputs": [],
   "source": [
    "for page in pages:\n",
    "    page = \"https://www.flipkart.com/apple-iphone-11-black-64-gb-includes-earpods-power-adapter/product-reviews/itm0f37c2240b217?pid=MOBFKCTSVZAXUHGR&lid=LSTMOBFKCTSVZAXUHGR42FFTZ&marketplace=FLIPKART&page=\"+str(page)\n",
    "    driver =  webdriver.Chrome(r\"C:\\Users\\acer\\Downloads\\chromedriver_win32\\chromedriver.exe\")\n",
    "    driver.get(page)"
   ]
  },
  {
   "cell_type": "code",
   "execution_count": 74,
   "id": "171607b7",
   "metadata": {},
   "outputs": [],
   "source": [
    "soup = BeautifulSoup(driver.page_source, 'html.parser')"
   ]
  },
  {
   "cell_type": "code",
   "execution_count": 77,
   "id": "17b11a8c",
   "metadata": {},
   "outputs": [],
   "source": [
    "for i in driver.find_elements_by_xpath(\"//div[@class='_3LWZlK _1BLPMq' or @class='_3LWZlK _1rdVr6 _1BLPMq']\"):\n",
    "        ratings.append(i.text)\n",
    "for i in driver.find_elements_by_xpath(\"//p[@class = '_2-N8zT']\"):\n",
    "        review_summary.append(i.text)\n",
    "for i in driver.find_elements_by_xpath(\"//div[@class = 't-ZTKy']/div/div\"):\n",
    "        full_review.append(i.text)"
   ]
  },
  {
   "cell_type": "code",
   "execution_count": 78,
   "id": "8416cd1e",
   "metadata": {},
   "outputs": [
    {
     "data": {
      "text/html": [
       "<div>\n",
       "<style scoped>\n",
       "    .dataframe tbody tr th:only-of-type {\n",
       "        vertical-align: middle;\n",
       "    }\n",
       "\n",
       "    .dataframe tbody tr th {\n",
       "        vertical-align: top;\n",
       "    }\n",
       "\n",
       "    .dataframe thead th {\n",
       "        text-align: right;\n",
       "    }\n",
       "</style>\n",
       "<table border=\"1\" class=\"dataframe\">\n",
       "  <thead>\n",
       "    <tr style=\"text-align: right;\">\n",
       "      <th></th>\n",
       "      <th>Rating</th>\n",
       "      <th>Review Summary</th>\n",
       "      <th>Full Review</th>\n",
       "    </tr>\n",
       "  </thead>\n",
       "  <tbody>\n",
       "    <tr>\n",
       "      <th>0</th>\n",
       "      <td>5</td>\n",
       "      <td>Just wow!</td>\n",
       "      <td>Not mere a phone , Its more than that for fun ...</td>\n",
       "    </tr>\n",
       "    <tr>\n",
       "      <th>1</th>\n",
       "      <td>5</td>\n",
       "      <td>Wonderful</td>\n",
       "      <td>Ok, so after almost 3 years I am again back in...</td>\n",
       "    </tr>\n",
       "    <tr>\n",
       "      <th>2</th>\n",
       "      <td>4</td>\n",
       "      <td>Nice product</td>\n",
       "      <td>If you are looking for a premium phone under 5...</td>\n",
       "    </tr>\n",
       "    <tr>\n",
       "      <th>3</th>\n",
       "      <td>5</td>\n",
       "      <td>Mind-blowing purchase</td>\n",
       "      <td>awesome Phone Smooth Touch Too good Sexyy look...</td>\n",
       "    </tr>\n",
       "    <tr>\n",
       "      <th>4</th>\n",
       "      <td>5</td>\n",
       "      <td>Terrific</td>\n",
       "      <td>I bought iPhone 11 On March 2021, And I am Wri...</td>\n",
       "    </tr>\n",
       "    <tr>\n",
       "      <th>5</th>\n",
       "      <td>5</td>\n",
       "      <td>Excellent</td>\n",
       "      <td>Just go for it.\\nThis phone is really amazing....</td>\n",
       "    </tr>\n",
       "    <tr>\n",
       "      <th>6</th>\n",
       "      <td>5</td>\n",
       "      <td>Mind-blowing purchase</td>\n",
       "      <td>Excellent camera 📸 And Display touching very N...</td>\n",
       "    </tr>\n",
       "    <tr>\n",
       "      <th>7</th>\n",
       "      <td>5</td>\n",
       "      <td>Brilliant</td>\n",
       "      <td>A wort full value for money decision it’s . Si...</td>\n",
       "    </tr>\n",
       "    <tr>\n",
       "      <th>8</th>\n",
       "      <td>5</td>\n",
       "      <td>Excellent</td>\n",
       "      <td>A perfect phone and a good battery super camer...</td>\n",
       "    </tr>\n",
       "    <tr>\n",
       "      <th>9</th>\n",
       "      <td>4</td>\n",
       "      <td>Pretty good</td>\n",
       "      <td>I've used this phone for over a month now and ...</td>\n",
       "    </tr>\n",
       "  </tbody>\n",
       "</table>\n",
       "</div>"
      ],
      "text/plain": [
       "  Rating         Review Summary  \\\n",
       "0      5              Just wow!   \n",
       "1      5              Wonderful   \n",
       "2      4           Nice product   \n",
       "3      5  Mind-blowing purchase   \n",
       "4      5               Terrific   \n",
       "5      5              Excellent   \n",
       "6      5  Mind-blowing purchase   \n",
       "7      5              Brilliant   \n",
       "8      5              Excellent   \n",
       "9      4            Pretty good   \n",
       "\n",
       "                                         Full Review  \n",
       "0  Not mere a phone , Its more than that for fun ...  \n",
       "1  Ok, so after almost 3 years I am again back in...  \n",
       "2  If you are looking for a premium phone under 5...  \n",
       "3  awesome Phone Smooth Touch Too good Sexyy look...  \n",
       "4  I bought iPhone 11 On March 2021, And I am Wri...  \n",
       "5  Just go for it.\\nThis phone is really amazing....  \n",
       "6  Excellent camera 📸 And Display touching very N...  \n",
       "7  A wort full value for money decision it’s . Si...  \n",
       "8  A perfect phone and a good battery super camer...  \n",
       "9  I've used this phone for over a month now and ...  "
      ]
     },
     "execution_count": 78,
     "metadata": {},
     "output_type": "execute_result"
    }
   ],
   "source": [
    "review_df = pd.DataFrame({\"Rating\" : ratings,\n",
    "                         \"Review Summary\" : review_summary,\n",
    "                         \"Full Review\" : full_review})\n",
    "review_df"
   ]
  },
  {
   "cell_type": "markdown",
   "id": "23248515",
   "metadata": {},
   "source": [
    "Q6: Scrape data for first 100 sneakers you find when you visit flipkart.com andsearch for “sneakers” in the\n",
    "search field.\n",
    "You have to scrape 4 attributes of each sneaker:\n",
    "1. Brand\n",
    "2. Product Description\n",
    "3. Price"
   ]
  },
  {
   "cell_type": "code",
   "execution_count": 79,
   "id": "e5783ad8",
   "metadata": {},
   "outputs": [],
   "source": [
    "driver =  webdriver.Chrome(r\"C:\\Users\\acer\\Downloads\\chromedriver_win32\\chromedriver.exe\")"
   ]
  },
  {
   "cell_type": "code",
   "execution_count": 80,
   "id": "36663656",
   "metadata": {},
   "outputs": [],
   "source": [
    "brand_name = []\n",
    "prod_description = []\n",
    "prod_price = []\n",
    "prod_discount = []"
   ]
  },
  {
   "cell_type": "code",
   "execution_count": 81,
   "id": "e9cc7035",
   "metadata": {},
   "outputs": [],
   "source": [
    "driver.get(\"https://www.flipkart.com/\")"
   ]
  },
  {
   "cell_type": "code",
   "execution_count": 82,
   "id": "e68554bb",
   "metadata": {},
   "outputs": [],
   "source": [
    "driver.find_element_by_xpath(\"//input[@title = 'Search for products, brands and more']\").send_keys(\"sneakers\")\n",
    "driver.find_element_by_xpath(\"//button[@type = 'submit']\").click()"
   ]
  },
  {
   "cell_type": "code",
   "execution_count": 84,
   "id": "fa152a45",
   "metadata": {},
   "outputs": [],
   "source": [
    "pages = np.arange(0,3,1)\n",
    "for page in pages:\n",
    "        page = \"https://www.flipkart.com/search?q=sneakers&otracker=search&otracker1=search&marketplace=FLIPKART&as-show=on&as=off&page=\"+str(page)\n",
    "        driver =webdriver.Chrome(r\"C:\\Users\\acer\\Downloads\\chromedriver_win32\\chromedriver.exe\")\n",
    "        driver.get(page)\n",
    "        soup = BeautifulSoup(driver.page_source, 'html.parser')\n",
    "        \n",
    "for i in driver.find_elements_by_xpath(\"//div[@class = '_2WkVRV']\"):\n",
    "            brand_name.append(i.text)\n",
    "for i in driver.find_elements_by_xpath(\"//a[@class = 'IRpwTa _2-ICcC' or @class = 'IRpwTa']\"):\n",
    "            prod_description.append(i.text)\n",
    "for i in driver.find_elements_by_xpath(\"//div[@class = '_30jeq3']\"):\n",
    "            prod_price.append(i.text)\n",
    "for i in driver.find_elements_by_xpath(\"//div[@class = '_3Ay6Sb']\"):\n",
    "            prod_discount.append(i.text)\n",
    "df = pd.DataFrame({\"Brand\" : brand_name[0:100],\n",
    "\"Product Description\" : prod_description[0:100],\n",
    "\"Price\" : prod_price[0:100],\n",
    "\"Discount %\" : prod_discount[0:100]})   "
   ]
  },
  {
   "cell_type": "code",
   "execution_count": 86,
   "id": "056f52bd",
   "metadata": {},
   "outputs": [
    {
     "data": {
      "text/html": [
       "<div>\n",
       "<style scoped>\n",
       "    .dataframe tbody tr th:only-of-type {\n",
       "        vertical-align: middle;\n",
       "    }\n",
       "\n",
       "    .dataframe tbody tr th {\n",
       "        vertical-align: top;\n",
       "    }\n",
       "\n",
       "    .dataframe thead th {\n",
       "        text-align: right;\n",
       "    }\n",
       "</style>\n",
       "<table border=\"1\" class=\"dataframe\">\n",
       "  <thead>\n",
       "    <tr style=\"text-align: right;\">\n",
       "      <th></th>\n",
       "      <th>Brand</th>\n",
       "      <th>Product Description</th>\n",
       "      <th>Price</th>\n",
       "      <th>Discount %</th>\n",
       "    </tr>\n",
       "  </thead>\n",
       "  <tbody>\n",
       "    <tr>\n",
       "      <th>0</th>\n",
       "      <td>BIRDE</td>\n",
       "      <td>Stylish Comfortable Lightweight, Breathable Wa...</td>\n",
       "      <td>₹369</td>\n",
       "      <td>63% off</td>\n",
       "    </tr>\n",
       "    <tr>\n",
       "      <th>1</th>\n",
       "      <td>Echor</td>\n",
       "      <td>Men's Sneakers Fashion Lightweight Running Sho...</td>\n",
       "      <td>₹489</td>\n",
       "      <td>51% off</td>\n",
       "    </tr>\n",
       "    <tr>\n",
       "      <th>2</th>\n",
       "      <td>aadi</td>\n",
       "      <td>Sneakers For Men</td>\n",
       "      <td>₹349</td>\n",
       "      <td>65% off</td>\n",
       "    </tr>\n",
       "    <tr>\n",
       "      <th>3</th>\n",
       "      <td>CLYMB</td>\n",
       "      <td>Perfect Sports Shoes for Men's Running ,Cyclin...</td>\n",
       "      <td>₹239</td>\n",
       "      <td>76% off</td>\n",
       "    </tr>\n",
       "    <tr>\n",
       "      <th>4</th>\n",
       "      <td>Shoes Bank</td>\n",
       "      <td>White Sneaker For Men's/Boy's Sneakers For Men</td>\n",
       "      <td>₹348</td>\n",
       "      <td>65% off</td>\n",
       "    </tr>\n",
       "    <tr>\n",
       "      <th>5</th>\n",
       "      <td>BIRDE</td>\n",
       "      <td>Stylish Comfortable Lightweight, Breathable Wa...</td>\n",
       "      <td>₹369</td>\n",
       "      <td>63% off</td>\n",
       "    </tr>\n",
       "    <tr>\n",
       "      <th>6</th>\n",
       "      <td>Zsyto</td>\n",
       "      <td>Sneakers For Men</td>\n",
       "      <td>₹298</td>\n",
       "      <td>77% off</td>\n",
       "    </tr>\n",
       "    <tr>\n",
       "      <th>7</th>\n",
       "      <td>Strollin</td>\n",
       "      <td>Sneakers For Men</td>\n",
       "      <td>₹369</td>\n",
       "      <td>63% off</td>\n",
       "    </tr>\n",
       "    <tr>\n",
       "      <th>8</th>\n",
       "      <td>KNIGHT WALKERS</td>\n",
       "      <td>Sneakers For Men</td>\n",
       "      <td>₹598</td>\n",
       "      <td>60% off</td>\n",
       "    </tr>\n",
       "    <tr>\n",
       "      <th>9</th>\n",
       "      <td>Rzisbo</td>\n",
       "      <td>Sneakers For Men</td>\n",
       "      <td>₹549</td>\n",
       "      <td>45% off</td>\n",
       "    </tr>\n",
       "    <tr>\n",
       "      <th>10</th>\n",
       "      <td>BRUTON</td>\n",
       "      <td>Lightweight Pack Of 1 Trendy Sneakers Sneakers...</td>\n",
       "      <td>₹177</td>\n",
       "      <td>70% off</td>\n",
       "    </tr>\n",
       "    <tr>\n",
       "      <th>11</th>\n",
       "      <td>Extoes</td>\n",
       "      <td>Lighweight, slip-on and lace-up Sneakers For Men</td>\n",
       "      <td>₹498</td>\n",
       "      <td>50% off</td>\n",
       "    </tr>\n",
       "    <tr>\n",
       "      <th>12</th>\n",
       "      <td>Kraasa</td>\n",
       "      <td>Casuals, Canvas, Partywear Sneakers For Men</td>\n",
       "      <td>₹468</td>\n",
       "      <td>53% off</td>\n",
       "    </tr>\n",
       "    <tr>\n",
       "      <th>13</th>\n",
       "      <td>Kzaara</td>\n",
       "      <td>Sneakers For Men</td>\n",
       "      <td>₹249</td>\n",
       "      <td>75% off</td>\n",
       "    </tr>\n",
       "    <tr>\n",
       "      <th>14</th>\n",
       "      <td>LuvShus</td>\n",
       "      <td>Men Casual Shoe New Trend With Fashion Panda D...</td>\n",
       "      <td>₹368</td>\n",
       "      <td>63% off</td>\n",
       "    </tr>\n",
       "    <tr>\n",
       "      <th>15</th>\n",
       "      <td>BRUTON</td>\n",
       "      <td>Modern Trendy Shoes Sneakers For Men</td>\n",
       "      <td>₹549</td>\n",
       "      <td>57% off</td>\n",
       "    </tr>\n",
       "    <tr>\n",
       "      <th>16</th>\n",
       "      <td>BIRDE</td>\n",
       "      <td>Sports Running Shoes Sneakers For Men</td>\n",
       "      <td>₹349</td>\n",
       "      <td>30% off</td>\n",
       "    </tr>\n",
       "    <tr>\n",
       "      <th>17</th>\n",
       "      <td>RODDICK SHOES</td>\n",
       "      <td>Fashion Outdoor Canvas Casual Light Weight Lac...</td>\n",
       "      <td>₹430</td>\n",
       "      <td>56% off</td>\n",
       "    </tr>\n",
       "    <tr>\n",
       "      <th>18</th>\n",
       "      <td>Chevit</td>\n",
       "      <td>Sneakers For Men</td>\n",
       "      <td>₹209</td>\n",
       "      <td>73% off</td>\n",
       "    </tr>\n",
       "    <tr>\n",
       "      <th>19</th>\n",
       "      <td>Bacan</td>\n",
       "      <td>Sneakers For Men</td>\n",
       "      <td>₹476</td>\n",
       "      <td>52% off</td>\n",
       "    </tr>\n",
       "    <tr>\n",
       "      <th>20</th>\n",
       "      <td>Robbie jones</td>\n",
       "      <td>Sneakers For Men</td>\n",
       "      <td>₹449</td>\n",
       "      <td>55% off</td>\n",
       "    </tr>\n",
       "    <tr>\n",
       "      <th>21</th>\n",
       "      <td>Chevit</td>\n",
       "      <td>Super Stylish &amp; Trendy Combo Pack of 02 Pairs ...</td>\n",
       "      <td>₹714</td>\n",
       "      <td>62% off</td>\n",
       "    </tr>\n",
       "    <tr>\n",
       "      <th>22</th>\n",
       "      <td>CLYMB</td>\n",
       "      <td>Sneakers For Men</td>\n",
       "      <td>₹599</td>\n",
       "      <td>60% off</td>\n",
       "    </tr>\n",
       "    <tr>\n",
       "      <th>23</th>\n",
       "      <td>Bacan</td>\n",
       "      <td>Sneakers For Men</td>\n",
       "      <td>₹476</td>\n",
       "      <td>52% off</td>\n",
       "    </tr>\n",
       "    <tr>\n",
       "      <th>24</th>\n",
       "      <td>ASIAN</td>\n",
       "      <td>WATERPROOF-05cFULLWHITE Sneakers For Men</td>\n",
       "      <td>₹549</td>\n",
       "      <td>45% off</td>\n",
       "    </tr>\n",
       "    <tr>\n",
       "      <th>25</th>\n",
       "      <td>Numenzo</td>\n",
       "      <td>411 Casual Sneakers For Men</td>\n",
       "      <td>₹449</td>\n",
       "      <td>77% off</td>\n",
       "    </tr>\n",
       "    <tr>\n",
       "      <th>26</th>\n",
       "      <td>Chevit</td>\n",
       "      <td>CH-527 Trendy Star Perfect Casuals Sneakers Fo...</td>\n",
       "      <td>₹318</td>\n",
       "      <td>60% off</td>\n",
       "    </tr>\n",
       "    <tr>\n",
       "      <th>27</th>\n",
       "      <td>LANCER</td>\n",
       "      <td>PILOT-1WHT Sneakers For Men</td>\n",
       "      <td>₹888</td>\n",
       "      <td>55% off</td>\n",
       "    </tr>\n",
       "    <tr>\n",
       "      <th>28</th>\n",
       "      <td>Robbie jones</td>\n",
       "      <td>Casual Sneakers White Shoes For Men Sneakers F...</td>\n",
       "      <td>₹449</td>\n",
       "      <td>55% off</td>\n",
       "    </tr>\n",
       "    <tr>\n",
       "      <th>29</th>\n",
       "      <td>luxury fashion</td>\n",
       "      <td>Sneakers For Men</td>\n",
       "      <td>₹399</td>\n",
       "      <td>80% off</td>\n",
       "    </tr>\n",
       "    <tr>\n",
       "      <th>30</th>\n",
       "      <td>BRUTON</td>\n",
       "      <td>Combo Pack Of 4 Casual Shoes Loafer Shoes Snea...</td>\n",
       "      <td>₹727</td>\n",
       "      <td>79% off</td>\n",
       "    </tr>\n",
       "    <tr>\n",
       "      <th>31</th>\n",
       "      <td>LANCER</td>\n",
       "      <td>PILOT-4WHT Sneakers For Men</td>\n",
       "      <td>₹888</td>\n",
       "      <td>55% off</td>\n",
       "    </tr>\n",
       "    <tr>\n",
       "      <th>32</th>\n",
       "      <td>BRUTON</td>\n",
       "      <td>Sneaker Sneakers For Men</td>\n",
       "      <td>₹249</td>\n",
       "      <td>80% off</td>\n",
       "    </tr>\n",
       "    <tr>\n",
       "      <th>33</th>\n",
       "      <td>Deals4you</td>\n",
       "      <td>Sneakers For Men</td>\n",
       "      <td>₹354</td>\n",
       "      <td>76% off</td>\n",
       "    </tr>\n",
       "    <tr>\n",
       "      <th>34</th>\n",
       "      <td>Dizzler</td>\n",
       "      <td>Sneakers For Men</td>\n",
       "      <td>₹445</td>\n",
       "      <td>38% off</td>\n",
       "    </tr>\n",
       "    <tr>\n",
       "      <th>35</th>\n",
       "      <td>LANCER</td>\n",
       "      <td>PILOT-3WHT Sneakers For Men</td>\n",
       "      <td>₹888</td>\n",
       "      <td>55% off</td>\n",
       "    </tr>\n",
       "    <tr>\n",
       "      <th>36</th>\n",
       "      <td>Navtrend</td>\n",
       "      <td>Sneakers For Men</td>\n",
       "      <td>₹499</td>\n",
       "      <td>83% off</td>\n",
       "    </tr>\n",
       "    <tr>\n",
       "      <th>37</th>\n",
       "      <td>kardam&amp;sons</td>\n",
       "      <td>kardam&amp;sons casual sneaker shoes and luxury fa...</td>\n",
       "      <td>₹449</td>\n",
       "      <td>65% off</td>\n",
       "    </tr>\n",
       "    <tr>\n",
       "      <th>38</th>\n",
       "      <td>ROCKFIELD</td>\n",
       "      <td>Sneakers For Men</td>\n",
       "      <td>₹649</td>\n",
       "      <td>59% off</td>\n",
       "    </tr>\n",
       "    <tr>\n",
       "      <th>39</th>\n",
       "      <td>LANCER</td>\n",
       "      <td>PILOT-3BLK Sneakers For Men</td>\n",
       "      <td>₹888</td>\n",
       "      <td>55% off</td>\n",
       "    </tr>\n",
       "  </tbody>\n",
       "</table>\n",
       "</div>"
      ],
      "text/plain": [
       "             Brand                                Product Description Price  \\\n",
       "0            BIRDE  Stylish Comfortable Lightweight, Breathable Wa...  ₹369   \n",
       "1            Echor  Men's Sneakers Fashion Lightweight Running Sho...  ₹489   \n",
       "2             aadi                                   Sneakers For Men  ₹349   \n",
       "3            CLYMB  Perfect Sports Shoes for Men's Running ,Cyclin...  ₹239   \n",
       "4       Shoes Bank     White Sneaker For Men's/Boy's Sneakers For Men  ₹348   \n",
       "5            BIRDE  Stylish Comfortable Lightweight, Breathable Wa...  ₹369   \n",
       "6            Zsyto                                   Sneakers For Men  ₹298   \n",
       "7         Strollin                                   Sneakers For Men  ₹369   \n",
       "8   KNIGHT WALKERS                                   Sneakers For Men  ₹598   \n",
       "9           Rzisbo                                   Sneakers For Men  ₹549   \n",
       "10          BRUTON  Lightweight Pack Of 1 Trendy Sneakers Sneakers...  ₹177   \n",
       "11          Extoes   Lighweight, slip-on and lace-up Sneakers For Men  ₹498   \n",
       "12          Kraasa        Casuals, Canvas, Partywear Sneakers For Men  ₹468   \n",
       "13          Kzaara                                   Sneakers For Men  ₹249   \n",
       "14         LuvShus  Men Casual Shoe New Trend With Fashion Panda D...  ₹368   \n",
       "15          BRUTON               Modern Trendy Shoes Sneakers For Men  ₹549   \n",
       "16           BIRDE              Sports Running Shoes Sneakers For Men  ₹349   \n",
       "17   RODDICK SHOES  Fashion Outdoor Canvas Casual Light Weight Lac...  ₹430   \n",
       "18          Chevit                                   Sneakers For Men  ₹209   \n",
       "19           Bacan                                   Sneakers For Men  ₹476   \n",
       "20    Robbie jones                                   Sneakers For Men  ₹449   \n",
       "21          Chevit  Super Stylish & Trendy Combo Pack of 02 Pairs ...  ₹714   \n",
       "22           CLYMB                                   Sneakers For Men  ₹599   \n",
       "23           Bacan                                   Sneakers For Men  ₹476   \n",
       "24           ASIAN           WATERPROOF-05cFULLWHITE Sneakers For Men  ₹549   \n",
       "25         Numenzo                        411 Casual Sneakers For Men  ₹449   \n",
       "26          Chevit  CH-527 Trendy Star Perfect Casuals Sneakers Fo...  ₹318   \n",
       "27          LANCER                        PILOT-1WHT Sneakers For Men  ₹888   \n",
       "28    Robbie jones  Casual Sneakers White Shoes For Men Sneakers F...  ₹449   \n",
       "29  luxury fashion                                   Sneakers For Men  ₹399   \n",
       "30          BRUTON  Combo Pack Of 4 Casual Shoes Loafer Shoes Snea...  ₹727   \n",
       "31          LANCER                        PILOT-4WHT Sneakers For Men  ₹888   \n",
       "32          BRUTON                           Sneaker Sneakers For Men  ₹249   \n",
       "33       Deals4you                                   Sneakers For Men  ₹354   \n",
       "34         Dizzler                                   Sneakers For Men  ₹445   \n",
       "35          LANCER                        PILOT-3WHT Sneakers For Men  ₹888   \n",
       "36        Navtrend                                   Sneakers For Men  ₹499   \n",
       "37     kardam&sons  kardam&sons casual sneaker shoes and luxury fa...  ₹449   \n",
       "38       ROCKFIELD                                   Sneakers For Men  ₹649   \n",
       "39          LANCER                        PILOT-3BLK Sneakers For Men  ₹888   \n",
       "\n",
       "   Discount %  \n",
       "0     63% off  \n",
       "1     51% off  \n",
       "2     65% off  \n",
       "3     76% off  \n",
       "4     65% off  \n",
       "5     63% off  \n",
       "6     77% off  \n",
       "7     63% off  \n",
       "8     60% off  \n",
       "9     45% off  \n",
       "10    70% off  \n",
       "11    50% off  \n",
       "12    53% off  \n",
       "13    75% off  \n",
       "14    63% off  \n",
       "15    57% off  \n",
       "16    30% off  \n",
       "17    56% off  \n",
       "18    73% off  \n",
       "19    52% off  \n",
       "20    55% off  \n",
       "21    62% off  \n",
       "22    60% off  \n",
       "23    52% off  \n",
       "24    45% off  \n",
       "25    77% off  \n",
       "26    60% off  \n",
       "27    55% off  \n",
       "28    55% off  \n",
       "29    80% off  \n",
       "30    79% off  \n",
       "31    55% off  \n",
       "32    80% off  \n",
       "33    76% off  \n",
       "34    38% off  \n",
       "35    55% off  \n",
       "36    83% off  \n",
       "37    65% off  \n",
       "38    59% off  \n",
       "39    55% off  "
      ]
     },
     "execution_count": 86,
     "metadata": {},
     "output_type": "execute_result"
    }
   ],
   "source": [
    "df"
   ]
  },
  {
   "cell_type": "markdown",
   "id": "295ccca8",
   "metadata": {},
   "source": [
    "q7"
   ]
  },
  {
   "cell_type": "code",
   "execution_count": 90,
   "id": "8d3567cc",
   "metadata": {},
   "outputs": [
    {
     "data": {
      "text/html": [
       "<div>\n",
       "<style scoped>\n",
       "    .dataframe tbody tr th:only-of-type {\n",
       "        vertical-align: middle;\n",
       "    }\n",
       "\n",
       "    .dataframe tbody tr th {\n",
       "        vertical-align: top;\n",
       "    }\n",
       "\n",
       "    .dataframe thead th {\n",
       "        text-align: right;\n",
       "    }\n",
       "</style>\n",
       "<table border=\"1\" class=\"dataframe\">\n",
       "  <thead>\n",
       "    <tr style=\"text-align: right;\">\n",
       "      <th></th>\n",
       "      <th>Brand</th>\n",
       "      <th>Product Description</th>\n",
       "      <th>Price</th>\n",
       "    </tr>\n",
       "  </thead>\n",
       "  <tbody>\n",
       "    <tr>\n",
       "      <th>0</th>\n",
       "      <td>DAVINCHI</td>\n",
       "      <td>Men Solid Leather Formal Loafers</td>\n",
       "      <td>Rs. 8490</td>\n",
       "    </tr>\n",
       "    <tr>\n",
       "      <th>1</th>\n",
       "      <td>DAVINCHI</td>\n",
       "      <td>Men Solid Leather Formal Derbys</td>\n",
       "      <td>Rs. 6990</td>\n",
       "    </tr>\n",
       "    <tr>\n",
       "      <th>2</th>\n",
       "      <td>DEL MONDO</td>\n",
       "      <td>Men Leather Sneakers</td>\n",
       "      <td>Rs. 7890</td>\n",
       "    </tr>\n",
       "    <tr>\n",
       "      <th>3</th>\n",
       "      <td>Bugatti</td>\n",
       "      <td>Men Leather Driving Shoes</td>\n",
       "      <td>Rs. 8499</td>\n",
       "    </tr>\n",
       "    <tr>\n",
       "      <th>4</th>\n",
       "      <td>Tommy Hilfiger</td>\n",
       "      <td>Men Textured Loafers</td>\n",
       "      <td>Rs. 8999</td>\n",
       "    </tr>\n",
       "    <tr>\n",
       "      <th>5</th>\n",
       "      <td>UNDER ARMOUR</td>\n",
       "      <td>Women Charged Pursuit 3 Run</td>\n",
       "      <td>Rs. 6999</td>\n",
       "    </tr>\n",
       "    <tr>\n",
       "      <th>6</th>\n",
       "      <td>Bugatti</td>\n",
       "      <td>Men Leather Monks</td>\n",
       "      <td>Rs. 8999</td>\n",
       "    </tr>\n",
       "    <tr>\n",
       "      <th>7</th>\n",
       "      <td>DAVINCHI</td>\n",
       "      <td>Men Textured Formal Leather Loafers</td>\n",
       "      <td>Rs. 8990</td>\n",
       "    </tr>\n",
       "    <tr>\n",
       "      <th>8</th>\n",
       "      <td>Geox</td>\n",
       "      <td>Men Textured Leather Driving Shoes</td>\n",
       "      <td>Rs. 10490</td>\n",
       "    </tr>\n",
       "    <tr>\n",
       "      <th>9</th>\n",
       "      <td>ADIDAS</td>\n",
       "      <td>Women Dropset Training Shoes</td>\n",
       "      <td>Rs. 12999</td>\n",
       "    </tr>\n",
       "    <tr>\n",
       "      <th>10</th>\n",
       "      <td>Hush Puppies</td>\n",
       "      <td>Men Solid Formal Slip-Ons</td>\n",
       "      <td>Rs. 8499Rs. 9999(15% OFF)</td>\n",
       "    </tr>\n",
       "    <tr>\n",
       "      <th>11</th>\n",
       "      <td>Hush Puppies</td>\n",
       "      <td>Men Solid Leather Formal Derbys</td>\n",
       "      <td>Rs. 8499Rs. 9999(15% OFF)</td>\n",
       "    </tr>\n",
       "    <tr>\n",
       "      <th>12</th>\n",
       "      <td>Geox</td>\n",
       "      <td>Men Textured Leather Driving Shoes</td>\n",
       "      <td>Rs. 10990</td>\n",
       "    </tr>\n",
       "    <tr>\n",
       "      <th>13</th>\n",
       "      <td>NR By Nidhi Rathi</td>\n",
       "      <td>Velvet Embroidered Heels</td>\n",
       "      <td>Rs. 6999</td>\n",
       "    </tr>\n",
       "    <tr>\n",
       "      <th>14</th>\n",
       "      <td>Puma</td>\n",
       "      <td>Men Deviate Nitro Shoes</td>\n",
       "      <td>Rs. 11999Rs. 14999(20% OFF)</td>\n",
       "    </tr>\n",
       "    <tr>\n",
       "      <th>15</th>\n",
       "      <td>Skechers</td>\n",
       "      <td>Men Go Walk 5 Walking Shoes</td>\n",
       "      <td>Rs. 8499</td>\n",
       "    </tr>\n",
       "    <tr>\n",
       "      <th>16</th>\n",
       "      <td>Geox</td>\n",
       "      <td>Men Textured Leather Driving Shoes</td>\n",
       "      <td>Rs. 9990</td>\n",
       "    </tr>\n",
       "    <tr>\n",
       "      <th>17</th>\n",
       "      <td>Saint G</td>\n",
       "      <td>Leather Block Sandals</td>\n",
       "      <td>Rs. 9810Rs. 10900(10% OFF)</td>\n",
       "    </tr>\n",
       "    <tr>\n",
       "      <th>18</th>\n",
       "      <td>Geox</td>\n",
       "      <td>Men Textured Leather Driving Shoes</td>\n",
       "      <td>Rs. 10990</td>\n",
       "    </tr>\n",
       "    <tr>\n",
       "      <th>19</th>\n",
       "      <td>Geox</td>\n",
       "      <td>Men Textured Leather Driving Shoes</td>\n",
       "      <td>Rs. 10990</td>\n",
       "    </tr>\n",
       "    <tr>\n",
       "      <th>20</th>\n",
       "      <td>Puma</td>\n",
       "      <td>Unisex Rebound Future Trainers</td>\n",
       "      <td>Rs. 6999</td>\n",
       "    </tr>\n",
       "    <tr>\n",
       "      <th>21</th>\n",
       "      <td>ASICS</td>\n",
       "      <td>Men Running Shoes</td>\n",
       "      <td>Rs. 7999</td>\n",
       "    </tr>\n",
       "    <tr>\n",
       "      <th>22</th>\n",
       "      <td>Bugatti</td>\n",
       "      <td>Printed Leather Sandals with Buckles</td>\n",
       "      <td>Rs. 9999</td>\n",
       "    </tr>\n",
       "    <tr>\n",
       "      <th>23</th>\n",
       "      <td>Hush Puppies</td>\n",
       "      <td>Men Textured Leather Sneakers</td>\n",
       "      <td>Rs. 6999</td>\n",
       "    </tr>\n",
       "    <tr>\n",
       "      <th>24</th>\n",
       "      <td>PUMA Hoops</td>\n",
       "      <td>Unisex Fusion Nitro Basketball</td>\n",
       "      <td>Rs. 7149Rs. 10999(35% OFF)</td>\n",
       "    </tr>\n",
       "    <tr>\n",
       "      <th>25</th>\n",
       "      <td>Skechers</td>\n",
       "      <td>Men PREMIER-VANTAG Running</td>\n",
       "      <td>Rs. 6999</td>\n",
       "    </tr>\n",
       "    <tr>\n",
       "      <th>26</th>\n",
       "      <td>Columbia</td>\n",
       "      <td>Women Trekking Shoes</td>\n",
       "      <td>Rs. 8999</td>\n",
       "    </tr>\n",
       "    <tr>\n",
       "      <th>27</th>\n",
       "      <td>Saint G</td>\n",
       "      <td>Embellished Chelsea Boots</td>\n",
       "      <td>Rs. 10355Rs. 10900(5% OFF)</td>\n",
       "    </tr>\n",
       "    <tr>\n",
       "      <th>28</th>\n",
       "      <td>Bugatti</td>\n",
       "      <td>Men Walking Shoes</td>\n",
       "      <td>Rs. 9999</td>\n",
       "    </tr>\n",
       "    <tr>\n",
       "      <th>29</th>\n",
       "      <td>Puma</td>\n",
       "      <td>Women Eternity NITRO Shoes</td>\n",
       "      <td>Rs. 9749Rs. 12999(25% OFF)</td>\n",
       "    </tr>\n",
       "    <tr>\n",
       "      <th>30</th>\n",
       "      <td>UNDER ARMOUR</td>\n",
       "      <td>Women Charged Vantage 2 Run</td>\n",
       "      <td>Rs. 7999</td>\n",
       "    </tr>\n",
       "    <tr>\n",
       "      <th>31</th>\n",
       "      <td>ASICS</td>\n",
       "      <td>Women Running Shoes</td>\n",
       "      <td>Rs. 7999</td>\n",
       "    </tr>\n",
       "    <tr>\n",
       "      <th>32</th>\n",
       "      <td>RAPAWALK</td>\n",
       "      <td>Standard Width Leather Monks</td>\n",
       "      <td>Rs. 8850</td>\n",
       "    </tr>\n",
       "    <tr>\n",
       "      <th>33</th>\n",
       "      <td>Geox</td>\n",
       "      <td>Men Formal Derbys</td>\n",
       "      <td>Rs. 9990</td>\n",
       "    </tr>\n",
       "    <tr>\n",
       "      <th>34</th>\n",
       "      <td>J.FONTINI</td>\n",
       "      <td>Men Solid Loafers</td>\n",
       "      <td>Rs. 8990</td>\n",
       "    </tr>\n",
       "    <tr>\n",
       "      <th>35</th>\n",
       "      <td>Puma</td>\n",
       "      <td>Softride Premier Running Shoes</td>\n",
       "      <td>Rs. 6999</td>\n",
       "    </tr>\n",
       "    <tr>\n",
       "      <th>36</th>\n",
       "      <td>Bugatti</td>\n",
       "      <td>Men Solid Leather Formal Derbys</td>\n",
       "      <td>Rs. 9499</td>\n",
       "    </tr>\n",
       "    <tr>\n",
       "      <th>37</th>\n",
       "      <td>DAVINCHI</td>\n",
       "      <td>Men Textured Formal Leather Loafers</td>\n",
       "      <td>Rs. 8990</td>\n",
       "    </tr>\n",
       "    <tr>\n",
       "      <th>38</th>\n",
       "      <td>Clarks</td>\n",
       "      <td>Men Leather Derbys</td>\n",
       "      <td>Rs. 7499</td>\n",
       "    </tr>\n",
       "    <tr>\n",
       "      <th>39</th>\n",
       "      <td>DAVINCHI</td>\n",
       "      <td>Ustraa black</td>\n",
       "      <td>Rs. 8990</td>\n",
       "    </tr>\n",
       "    <tr>\n",
       "      <th>40</th>\n",
       "      <td>J.FONTINI</td>\n",
       "      <td>Men Leather Formal Loafers</td>\n",
       "      <td>Rs. 7490</td>\n",
       "    </tr>\n",
       "    <tr>\n",
       "      <th>41</th>\n",
       "      <td>J.FONTINI</td>\n",
       "      <td>Men Leather Formal Loafers</td>\n",
       "      <td>Rs. 7490</td>\n",
       "    </tr>\n",
       "    <tr>\n",
       "      <th>42</th>\n",
       "      <td>RARE RABBIT</td>\n",
       "      <td>Men Leather Formal Slip-Ons</td>\n",
       "      <td>Rs. 6999Rs. 9999(30% OFF)</td>\n",
       "    </tr>\n",
       "    <tr>\n",
       "      <th>43</th>\n",
       "      <td>DAVINCHI</td>\n",
       "      <td>Men Formal Slip-On Shoes</td>\n",
       "      <td>Rs. 6990</td>\n",
       "    </tr>\n",
       "    <tr>\n",
       "      <th>44</th>\n",
       "      <td>Saint G</td>\n",
       "      <td>Women Leather Loafers</td>\n",
       "      <td>Rs. 7505Rs. 9500(21% OFF)</td>\n",
       "    </tr>\n",
       "    <tr>\n",
       "      <th>45</th>\n",
       "      <td>Saint G</td>\n",
       "      <td>Women Leather Kitten Heels</td>\n",
       "      <td>Rs. 6750Rs. 7500(10% OFF)</td>\n",
       "    </tr>\n",
       "    <tr>\n",
       "      <th>46</th>\n",
       "      <td>RAPAWALK</td>\n",
       "      <td>Standard Width Leather Oxfords</td>\n",
       "      <td>Rs. 8850</td>\n",
       "    </tr>\n",
       "    <tr>\n",
       "      <th>47</th>\n",
       "      <td>RAPAWALK</td>\n",
       "      <td>Standard Width Leather Slip Ons</td>\n",
       "      <td>Rs. 8850</td>\n",
       "    </tr>\n",
       "    <tr>\n",
       "      <th>48</th>\n",
       "      <td>RAPAWALK</td>\n",
       "      <td>Standard Width Leather Monks</td>\n",
       "      <td>Rs. 8850</td>\n",
       "    </tr>\n",
       "    <tr>\n",
       "      <th>49</th>\n",
       "      <td>RAPAWALK</td>\n",
       "      <td>Standard Width Leather Oxfords</td>\n",
       "      <td>Rs. 8850</td>\n",
       "    </tr>\n",
       "  </tbody>\n",
       "</table>\n",
       "</div>"
      ],
      "text/plain": [
       "                Brand                   Product Description  \\\n",
       "0            DAVINCHI      Men Solid Leather Formal Loafers   \n",
       "1            DAVINCHI       Men Solid Leather Formal Derbys   \n",
       "2           DEL MONDO                  Men Leather Sneakers   \n",
       "3             Bugatti             Men Leather Driving Shoes   \n",
       "4      Tommy Hilfiger                  Men Textured Loafers   \n",
       "5        UNDER ARMOUR           Women Charged Pursuit 3 Run   \n",
       "6             Bugatti                     Men Leather Monks   \n",
       "7            DAVINCHI   Men Textured Formal Leather Loafers   \n",
       "8                Geox    Men Textured Leather Driving Shoes   \n",
       "9              ADIDAS          Women Dropset Training Shoes   \n",
       "10       Hush Puppies             Men Solid Formal Slip-Ons   \n",
       "11       Hush Puppies       Men Solid Leather Formal Derbys   \n",
       "12               Geox    Men Textured Leather Driving Shoes   \n",
       "13  NR By Nidhi Rathi              Velvet Embroidered Heels   \n",
       "14               Puma               Men Deviate Nitro Shoes   \n",
       "15           Skechers           Men Go Walk 5 Walking Shoes   \n",
       "16               Geox    Men Textured Leather Driving Shoes   \n",
       "17            Saint G                 Leather Block Sandals   \n",
       "18               Geox    Men Textured Leather Driving Shoes   \n",
       "19               Geox    Men Textured Leather Driving Shoes   \n",
       "20               Puma        Unisex Rebound Future Trainers   \n",
       "21              ASICS                     Men Running Shoes   \n",
       "22            Bugatti  Printed Leather Sandals with Buckles   \n",
       "23       Hush Puppies         Men Textured Leather Sneakers   \n",
       "24         PUMA Hoops        Unisex Fusion Nitro Basketball   \n",
       "25           Skechers            Men PREMIER-VANTAG Running   \n",
       "26           Columbia                  Women Trekking Shoes   \n",
       "27            Saint G             Embellished Chelsea Boots   \n",
       "28            Bugatti                     Men Walking Shoes   \n",
       "29               Puma            Women Eternity NITRO Shoes   \n",
       "30       UNDER ARMOUR           Women Charged Vantage 2 Run   \n",
       "31              ASICS                   Women Running Shoes   \n",
       "32           RAPAWALK          Standard Width Leather Monks   \n",
       "33               Geox                     Men Formal Derbys   \n",
       "34          J.FONTINI                     Men Solid Loafers   \n",
       "35               Puma        Softride Premier Running Shoes   \n",
       "36            Bugatti       Men Solid Leather Formal Derbys   \n",
       "37           DAVINCHI   Men Textured Formal Leather Loafers   \n",
       "38             Clarks                    Men Leather Derbys   \n",
       "39           DAVINCHI                          Ustraa black   \n",
       "40          J.FONTINI            Men Leather Formal Loafers   \n",
       "41          J.FONTINI            Men Leather Formal Loafers   \n",
       "42        RARE RABBIT           Men Leather Formal Slip-Ons   \n",
       "43           DAVINCHI              Men Formal Slip-On Shoes   \n",
       "44            Saint G                 Women Leather Loafers   \n",
       "45            Saint G            Women Leather Kitten Heels   \n",
       "46           RAPAWALK        Standard Width Leather Oxfords   \n",
       "47           RAPAWALK       Standard Width Leather Slip Ons   \n",
       "48           RAPAWALK          Standard Width Leather Monks   \n",
       "49           RAPAWALK        Standard Width Leather Oxfords   \n",
       "\n",
       "                          Price  \n",
       "0                      Rs. 8490  \n",
       "1                      Rs. 6990  \n",
       "2                      Rs. 7890  \n",
       "3                      Rs. 8499  \n",
       "4                      Rs. 8999  \n",
       "5                      Rs. 6999  \n",
       "6                      Rs. 8999  \n",
       "7                      Rs. 8990  \n",
       "8                     Rs. 10490  \n",
       "9                     Rs. 12999  \n",
       "10    Rs. 8499Rs. 9999(15% OFF)  \n",
       "11    Rs. 8499Rs. 9999(15% OFF)  \n",
       "12                    Rs. 10990  \n",
       "13                     Rs. 6999  \n",
       "14  Rs. 11999Rs. 14999(20% OFF)  \n",
       "15                     Rs. 8499  \n",
       "16                     Rs. 9990  \n",
       "17   Rs. 9810Rs. 10900(10% OFF)  \n",
       "18                    Rs. 10990  \n",
       "19                    Rs. 10990  \n",
       "20                     Rs. 6999  \n",
       "21                     Rs. 7999  \n",
       "22                     Rs. 9999  \n",
       "23                     Rs. 6999  \n",
       "24   Rs. 7149Rs. 10999(35% OFF)  \n",
       "25                     Rs. 6999  \n",
       "26                     Rs. 8999  \n",
       "27   Rs. 10355Rs. 10900(5% OFF)  \n",
       "28                     Rs. 9999  \n",
       "29   Rs. 9749Rs. 12999(25% OFF)  \n",
       "30                     Rs. 7999  \n",
       "31                     Rs. 7999  \n",
       "32                     Rs. 8850  \n",
       "33                     Rs. 9990  \n",
       "34                     Rs. 8990  \n",
       "35                     Rs. 6999  \n",
       "36                     Rs. 9499  \n",
       "37                     Rs. 8990  \n",
       "38                     Rs. 7499  \n",
       "39                     Rs. 8990  \n",
       "40                     Rs. 7490  \n",
       "41                     Rs. 7490  \n",
       "42    Rs. 6999Rs. 9999(30% OFF)  \n",
       "43                     Rs. 6990  \n",
       "44    Rs. 7505Rs. 9500(21% OFF)  \n",
       "45    Rs. 6750Rs. 7500(10% OFF)  \n",
       "46                     Rs. 8850  \n",
       "47                     Rs. 8850  \n",
       "48                     Rs. 8850  \n",
       "49                     Rs. 8850  "
      ]
     },
     "execution_count": 90,
     "metadata": {},
     "output_type": "execute_result"
    }
   ],
   "source": [
    "driver = driver =  webdriver.Chrome(r\"C:\\Users\\acer\\Downloads\\chromedriver_win32\\chromedriver.exe\")\n",
    "driver.get(\"https://www.myntra.com/\")\n",
    "brand = []\n",
    "short_description = []\n",
    "price = []    \n",
    "pages = np.arange(0,3,1)\n",
    "    \n",
    "for page in pages:\n",
    "        page = \"https://www.myntra.com/shoes?f=Color%3ABlack_36454f&p=\"+str(page)+\"&plaEnabled=false&rf=Price%3A6687.0_13125.0_6687.0%20TO%2013125.0\"\n",
    "driver =  driver =  webdriver.Chrome(r\"C:\\Users\\acer\\Downloads\\chromedriver_win32\\chromedriver.exe\")\n",
    "driver.get(page)\n",
    "soup = BeautifulSoup(driver.page_source, 'html.parser')\n",
    "for i in driver.find_elements_by_xpath(\"//h3[@class = 'product-brand']\"):\n",
    "            brand.append(i.text)\n",
    "for i in driver.find_elements_by_xpath(\"//h4[@class = 'product-product']\"):\n",
    "            short_description.append(i.text)\n",
    "for i in driver.find_elements_by_xpath(\"//div[@class = 'product-price']\"):\n",
    "            price.append(i.text)\n",
    "sneakers_df = pd.DataFrame({\"Brand\" : brand[0:100],\n",
    "                                \"Product Description\" : short_description[0:100],\n",
    "                                \"Price\" : price[0:100]}\n",
    "sneakers_df"
   ]
  },
  {
   "cell_type": "markdown",
   "id": "b40e536f",
   "metadata": {},
   "source": [
    "Q8"
   ]
  },
  {
   "cell_type": "code",
   "execution_count": 115,
   "id": "f5ab1e23",
   "metadata": {},
   "outputs": [
    {
     "ename": "ValueError",
     "evalue": "arrays must all be same length",
     "output_type": "error",
     "traceback": [
      "\u001b[1;31m---------------------------------------------------------------------------\u001b[0m",
      "\u001b[1;31mValueError\u001b[0m                                Traceback (most recent call last)",
      "\u001b[1;32m<ipython-input-115-d95a715bc909>\u001b[0m in \u001b[0;36m<module>\u001b[1;34m\u001b[0m\n\u001b[0;32m      7\u001b[0m \u001b[1;32mfor\u001b[0m \u001b[0mi\u001b[0m \u001b[1;32min\u001b[0m \u001b[0mdriver\u001b[0m\u001b[1;33m.\u001b[0m\u001b[0mfind_elements_by_xpath\u001b[0m\u001b[1;33m(\u001b[0m\u001b[1;34m\"//span[@class = 'a-price-whole']\"\u001b[0m\u001b[1;33m)\u001b[0m\u001b[1;33m[\u001b[0m\u001b[1;36m0\u001b[0m\u001b[1;33m:\u001b[0m\u001b[1;36m10\u001b[0m\u001b[1;33m]\u001b[0m\u001b[1;33m:\u001b[0m\u001b[1;33m\u001b[0m\u001b[1;33m\u001b[0m\u001b[0m\n\u001b[0;32m      8\u001b[0m         \u001b[0mlap_price\u001b[0m\u001b[1;33m.\u001b[0m\u001b[0mappend\u001b[0m\u001b[1;33m(\u001b[0m\u001b[0mi\u001b[0m\u001b[1;33m.\u001b[0m\u001b[0mtext\u001b[0m\u001b[1;33m)\u001b[0m\u001b[1;33m\u001b[0m\u001b[1;33m\u001b[0m\u001b[0m\n\u001b[1;32m----> 9\u001b[1;33m laptop_df = pd.DataFrame({\"Title\" : lap_title,\n\u001b[0m\u001b[0;32m     10\u001b[0m \"Price\" : lap_price})\n",
      "\u001b[1;32m~\\anaconda3\\lib\\site-packages\\pandas\\core\\frame.py\u001b[0m in \u001b[0;36m__init__\u001b[1;34m(self, data, index, columns, dtype, copy)\u001b[0m\n\u001b[0;32m    527\u001b[0m \u001b[1;33m\u001b[0m\u001b[0m\n\u001b[0;32m    528\u001b[0m         \u001b[1;32melif\u001b[0m \u001b[0misinstance\u001b[0m\u001b[1;33m(\u001b[0m\u001b[0mdata\u001b[0m\u001b[1;33m,\u001b[0m \u001b[0mdict\u001b[0m\u001b[1;33m)\u001b[0m\u001b[1;33m:\u001b[0m\u001b[1;33m\u001b[0m\u001b[1;33m\u001b[0m\u001b[0m\n\u001b[1;32m--> 529\u001b[1;33m             \u001b[0mmgr\u001b[0m \u001b[1;33m=\u001b[0m \u001b[0minit_dict\u001b[0m\u001b[1;33m(\u001b[0m\u001b[0mdata\u001b[0m\u001b[1;33m,\u001b[0m \u001b[0mindex\u001b[0m\u001b[1;33m,\u001b[0m \u001b[0mcolumns\u001b[0m\u001b[1;33m,\u001b[0m \u001b[0mdtype\u001b[0m\u001b[1;33m=\u001b[0m\u001b[0mdtype\u001b[0m\u001b[1;33m)\u001b[0m\u001b[1;33m\u001b[0m\u001b[1;33m\u001b[0m\u001b[0m\n\u001b[0m\u001b[0;32m    530\u001b[0m         \u001b[1;32melif\u001b[0m \u001b[0misinstance\u001b[0m\u001b[1;33m(\u001b[0m\u001b[0mdata\u001b[0m\u001b[1;33m,\u001b[0m \u001b[0mma\u001b[0m\u001b[1;33m.\u001b[0m\u001b[0mMaskedArray\u001b[0m\u001b[1;33m)\u001b[0m\u001b[1;33m:\u001b[0m\u001b[1;33m\u001b[0m\u001b[1;33m\u001b[0m\u001b[0m\n\u001b[0;32m    531\u001b[0m             \u001b[1;32mimport\u001b[0m \u001b[0mnumpy\u001b[0m\u001b[1;33m.\u001b[0m\u001b[0mma\u001b[0m\u001b[1;33m.\u001b[0m\u001b[0mmrecords\u001b[0m \u001b[1;32mas\u001b[0m \u001b[0mmrecords\u001b[0m\u001b[1;33m\u001b[0m\u001b[1;33m\u001b[0m\u001b[0m\n",
      "\u001b[1;32m~\\anaconda3\\lib\\site-packages\\pandas\\core\\internals\\construction.py\u001b[0m in \u001b[0;36minit_dict\u001b[1;34m(data, index, columns, dtype)\u001b[0m\n\u001b[0;32m    285\u001b[0m             \u001b[0marr\u001b[0m \u001b[1;32mif\u001b[0m \u001b[1;32mnot\u001b[0m \u001b[0mis_datetime64tz_dtype\u001b[0m\u001b[1;33m(\u001b[0m\u001b[0marr\u001b[0m\u001b[1;33m)\u001b[0m \u001b[1;32melse\u001b[0m \u001b[0marr\u001b[0m\u001b[1;33m.\u001b[0m\u001b[0mcopy\u001b[0m\u001b[1;33m(\u001b[0m\u001b[1;33m)\u001b[0m \u001b[1;32mfor\u001b[0m \u001b[0marr\u001b[0m \u001b[1;32min\u001b[0m \u001b[0marrays\u001b[0m\u001b[1;33m\u001b[0m\u001b[1;33m\u001b[0m\u001b[0m\n\u001b[0;32m    286\u001b[0m         ]\n\u001b[1;32m--> 287\u001b[1;33m     \u001b[1;32mreturn\u001b[0m \u001b[0marrays_to_mgr\u001b[0m\u001b[1;33m(\u001b[0m\u001b[0marrays\u001b[0m\u001b[1;33m,\u001b[0m \u001b[0mdata_names\u001b[0m\u001b[1;33m,\u001b[0m \u001b[0mindex\u001b[0m\u001b[1;33m,\u001b[0m \u001b[0mcolumns\u001b[0m\u001b[1;33m,\u001b[0m \u001b[0mdtype\u001b[0m\u001b[1;33m=\u001b[0m\u001b[0mdtype\u001b[0m\u001b[1;33m)\u001b[0m\u001b[1;33m\u001b[0m\u001b[1;33m\u001b[0m\u001b[0m\n\u001b[0m\u001b[0;32m    288\u001b[0m \u001b[1;33m\u001b[0m\u001b[0m\n\u001b[0;32m    289\u001b[0m \u001b[1;33m\u001b[0m\u001b[0m\n",
      "\u001b[1;32m~\\anaconda3\\lib\\site-packages\\pandas\\core\\internals\\construction.py\u001b[0m in \u001b[0;36marrays_to_mgr\u001b[1;34m(arrays, arr_names, index, columns, dtype, verify_integrity)\u001b[0m\n\u001b[0;32m     78\u001b[0m         \u001b[1;31m# figure out the index, if necessary\u001b[0m\u001b[1;33m\u001b[0m\u001b[1;33m\u001b[0m\u001b[1;33m\u001b[0m\u001b[0m\n\u001b[0;32m     79\u001b[0m         \u001b[1;32mif\u001b[0m \u001b[0mindex\u001b[0m \u001b[1;32mis\u001b[0m \u001b[1;32mNone\u001b[0m\u001b[1;33m:\u001b[0m\u001b[1;33m\u001b[0m\u001b[1;33m\u001b[0m\u001b[0m\n\u001b[1;32m---> 80\u001b[1;33m             \u001b[0mindex\u001b[0m \u001b[1;33m=\u001b[0m \u001b[0mextract_index\u001b[0m\u001b[1;33m(\u001b[0m\u001b[0marrays\u001b[0m\u001b[1;33m)\u001b[0m\u001b[1;33m\u001b[0m\u001b[1;33m\u001b[0m\u001b[0m\n\u001b[0m\u001b[0;32m     81\u001b[0m         \u001b[1;32melse\u001b[0m\u001b[1;33m:\u001b[0m\u001b[1;33m\u001b[0m\u001b[1;33m\u001b[0m\u001b[0m\n\u001b[0;32m     82\u001b[0m             \u001b[0mindex\u001b[0m \u001b[1;33m=\u001b[0m \u001b[0mensure_index\u001b[0m\u001b[1;33m(\u001b[0m\u001b[0mindex\u001b[0m\u001b[1;33m)\u001b[0m\u001b[1;33m\u001b[0m\u001b[1;33m\u001b[0m\u001b[0m\n",
      "\u001b[1;32m~\\anaconda3\\lib\\site-packages\\pandas\\core\\internals\\construction.py\u001b[0m in \u001b[0;36mextract_index\u001b[1;34m(data)\u001b[0m\n\u001b[0;32m    399\u001b[0m             \u001b[0mlengths\u001b[0m \u001b[1;33m=\u001b[0m \u001b[0mlist\u001b[0m\u001b[1;33m(\u001b[0m\u001b[0mset\u001b[0m\u001b[1;33m(\u001b[0m\u001b[0mraw_lengths\u001b[0m\u001b[1;33m)\u001b[0m\u001b[1;33m)\u001b[0m\u001b[1;33m\u001b[0m\u001b[1;33m\u001b[0m\u001b[0m\n\u001b[0;32m    400\u001b[0m             \u001b[1;32mif\u001b[0m \u001b[0mlen\u001b[0m\u001b[1;33m(\u001b[0m\u001b[0mlengths\u001b[0m\u001b[1;33m)\u001b[0m \u001b[1;33m>\u001b[0m \u001b[1;36m1\u001b[0m\u001b[1;33m:\u001b[0m\u001b[1;33m\u001b[0m\u001b[1;33m\u001b[0m\u001b[0m\n\u001b[1;32m--> 401\u001b[1;33m                 \u001b[1;32mraise\u001b[0m \u001b[0mValueError\u001b[0m\u001b[1;33m(\u001b[0m\u001b[1;34m\"arrays must all be same length\"\u001b[0m\u001b[1;33m)\u001b[0m\u001b[1;33m\u001b[0m\u001b[1;33m\u001b[0m\u001b[0m\n\u001b[0m\u001b[0;32m    402\u001b[0m \u001b[1;33m\u001b[0m\u001b[0m\n\u001b[0;32m    403\u001b[0m             \u001b[1;32mif\u001b[0m \u001b[0mhave_dicts\u001b[0m\u001b[1;33m:\u001b[0m\u001b[1;33m\u001b[0m\u001b[1;33m\u001b[0m\u001b[0m\n",
      "\u001b[1;31mValueError\u001b[0m: arrays must all be same length"
     ]
    }
   ],
   "source": [
    "driver = driver =  webdriver.Chrome(r\"C:\\Users\\acer\\Downloads\\chromedriver_win32\\chromedriver.exe\")\n",
    "driver.get(\"https://www.amazon.in/\")\n",
    "lap_title = []\n",
    "lap_price = []\n",
    "for i in driver.find_elements_by_xpath(\"//div[@class = 'a-section a-spacing-none']/h2\")[0:10]:\n",
    "        lap_title.append(i.text)\n",
    "for i in driver.find_elements_by_xpath(\"//span[@class = 'a-price-whole']\")[0:10]:\n",
    "        lap_price.append(i.text)\n",
    "laptop_df = pd.DataFrame({\"Title\" : lap_title,\n",
    "\"Price\" : lap_price})"
   ]
  },
  {
   "cell_type": "code",
   "execution_count": null,
   "id": "f1d77882",
   "metadata": {},
   "outputs": [],
   "source": [
    "laptop_df"
   ]
  },
  {
   "cell_type": "markdown",
   "id": "87d54e26",
   "metadata": {},
   "source": [
    "Q9"
   ]
  },
  {
   "cell_type": "code",
   "execution_count": 122,
   "id": "675df344",
   "metadata": {},
   "outputs": [],
   "source": [
    "driver= webdriver.Chrome(r\"C:\\Users\\acer\\Downloads\\chromedriver_win32\\chromedriver.exe\")"
   ]
  },
  {
   "cell_type": "code",
   "execution_count": 123,
   "id": "ee96e38c",
   "metadata": {},
   "outputs": [],
   "source": [
    "driver.get(\"https://www.naukri.com/\")"
   ]
  },
  {
   "cell_type": "code",
   "execution_count": 124,
   "id": "cfffdfe4",
   "metadata": {},
   "outputs": [],
   "source": [
    "search_field_designation=driver.find_element_by_class_name(\"suggestor-input\")\n",
    "search_field_designation.send_keys(\"Data Analyst\")\n",
    "search_field_location=driver.find_element_by_xpath(\"/html/body/div/div[2]/div[3]/div/div/div[3]/div/div/div/input\")\n",
    "search_field_location.send_keys(\"Noida\")\n",
    "search_button=driver.find_element_by_xpath(\"/html/body/div/div[2]/div[3]/div/div/div[6]\")\n",
    "search_button.click()"
   ]
  },
  {
   "cell_type": "code",
   "execution_count": 125,
   "id": "df6f2d34",
   "metadata": {},
   "outputs": [],
   "source": [
    "company_name  = []\n",
    "days_ago = []\n",
    "rating = []"
   ]
  },
  {
   "cell_type": "code",
   "execution_count": 128,
   "id": "b864a797",
   "metadata": {},
   "outputs": [],
   "source": [
    "for i in driver.find_elements_by_xpath(\"//a[@class = ' css-10l5u4p e1n63ojh0 jobLink']/span\")[0:10]:\n",
    "        company_name.append(i.text)\n",
    "for i in driver.find_elements_by_xpath(\"//div[@class = 'd-flex align-items-end pl-std css-mi55ob']\")[0:10]:\n",
    "        days_ago.append(i.text)\n",
    "for i in driver.find_elements_by_xpath(\"//div[@class = 'd-flex flex-column css-fbt9gv e1rrn5ka2']/span\")[0:10]:\n",
    "        rating.append(i.text)\n",
    "df_glass = pd.DataFrame({\"Company\" : company_name,\n",
    "                            \"No. of days ago when job was posted\" : days_ago,\n",
    "                            \"Rating of the company\" : rating})"
   ]
  },
  {
   "cell_type": "code",
   "execution_count": 129,
   "id": "3a291067",
   "metadata": {},
   "outputs": [
    {
     "data": {
      "text/html": [
       "<div>\n",
       "<style scoped>\n",
       "    .dataframe tbody tr th:only-of-type {\n",
       "        vertical-align: middle;\n",
       "    }\n",
       "\n",
       "    .dataframe tbody tr th {\n",
       "        vertical-align: top;\n",
       "    }\n",
       "\n",
       "    .dataframe thead th {\n",
       "        text-align: right;\n",
       "    }\n",
       "</style>\n",
       "<table border=\"1\" class=\"dataframe\">\n",
       "  <thead>\n",
       "    <tr style=\"text-align: right;\">\n",
       "      <th></th>\n",
       "      <th>Company</th>\n",
       "      <th>No. of days ago when job was posted</th>\n",
       "      <th>Rating of the company</th>\n",
       "    </tr>\n",
       "  </thead>\n",
       "  <tbody>\n",
       "  </tbody>\n",
       "</table>\n",
       "</div>"
      ],
      "text/plain": [
       "Empty DataFrame\n",
       "Columns: [Company, No. of days ago when job was posted, Rating of the company]\n",
       "Index: []"
      ]
     },
     "execution_count": 129,
     "metadata": {},
     "output_type": "execute_result"
    }
   ],
   "source": [
    "df_glass"
   ]
  },
  {
   "cell_type": "code",
   "execution_count": null,
   "id": "8be51562",
   "metadata": {},
   "outputs": [],
   "source": []
  }
 ],
 "metadata": {
  "kernelspec": {
   "display_name": "Python 3",
   "language": "python",
   "name": "python3"
  },
  "language_info": {
   "codemirror_mode": {
    "name": "ipython",
    "version": 3
   },
   "file_extension": ".py",
   "mimetype": "text/x-python",
   "name": "python",
   "nbconvert_exporter": "python",
   "pygments_lexer": "ipython3",
   "version": "3.8.8"
  }
 },
 "nbformat": 4,
 "nbformat_minor": 5
}
