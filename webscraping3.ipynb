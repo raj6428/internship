{
 "cells": [
  {
   "cell_type": "code",
   "execution_count": 1,
   "id": "51c7a6e3",
   "metadata": {},
   "outputs": [],
   "source": [
    "import selenium\n",
    "import pandas as pd\n",
    "from selenium import webdriver\n",
    "import time\n"
   ]
  },
  {
   "cell_type": "code",
   "execution_count": 2,
   "id": "58a76d35",
   "metadata": {},
   "outputs": [
    {
     "name": "stderr",
     "output_type": "stream",
     "text": [
      "<ipython-input-2-460221ae0d3e>:1: DeprecationWarning: executable_path has been deprecated, please pass in a Service object\n",
      "  driver= webdriver.Chrome(r\"C:\\Users\\acer\\Downloads\\chromedriver_win32\\chromedriver.exe\")\n"
     ]
    }
   ],
   "source": [
    "driver= webdriver.Chrome(r\"C:\\Users\\acer\\Downloads\\chromedriver_win32\\chromedriver.exe\")"
   ]
  },
  {
   "cell_type": "code",
   "execution_count": 3,
   "id": "a1b01a44",
   "metadata": {},
   "outputs": [],
   "source": [
    "driver.get('https://www.amazon.in/')"
   ]
  },
  {
   "cell_type": "code",
   "execution_count": 4,
   "id": "b4f4cd1b",
   "metadata": {},
   "outputs": [
    {
     "name": "stdout",
     "output_type": "stream",
     "text": [
      "Enter the item you want to find: mobiles\n"
     ]
    }
   ],
   "source": [
    "#Taking the input from user \n",
    "product_input=input(\"Enter the item you want to find: \")"
   ]
  },
  {
   "cell_type": "code",
   "execution_count": 5,
   "id": "6b86051c",
   "metadata": {},
   "outputs": [
    {
     "name": "stderr",
     "output_type": "stream",
     "text": [
      "<ipython-input-5-50db5060212a>:2: DeprecationWarning: find_element_by_* commands are deprecated. Please use find_element() instead\n",
      "  search_bar=driver.find_element_by_id('twotabsearchtextbox')\n"
     ]
    }
   ],
   "source": [
    "#Finding the search bar in website\n",
    "search_bar=driver.find_element_by_id('twotabsearchtextbox')\n",
    "search_bar.send_keys(product_input)"
   ]
  },
  {
   "cell_type": "code",
   "execution_count": 6,
   "id": "8b87d3db",
   "metadata": {},
   "outputs": [
    {
     "name": "stderr",
     "output_type": "stream",
     "text": [
      "<ipython-input-6-4f9b3bec122c>:2: DeprecationWarning: find_element_by_* commands are deprecated. Please use find_element() instead\n",
      "  search_button=driver.find_element_by_id(\"nav-search-submit-button\")\n"
     ]
    }
   ],
   "source": [
    "#Finding and Clicking on the search button\n",
    "search_button=driver.find_element_by_id(\"nav-search-submit-button\")\n",
    "search_button.click()"
   ]
  },
  {
   "cell_type": "code",
   "execution_count": 7,
   "id": "9f21a291",
   "metadata": {},
   "outputs": [],
   "source": [
    "link=[]"
   ]
  },
  {
   "cell_type": "code",
   "execution_count": 8,
   "id": "4610f47d",
   "metadata": {},
   "outputs": [
    {
     "name": "stderr",
     "output_type": "stream",
     "text": [
      "<ipython-input-8-f24bc9d9484a>:1: DeprecationWarning: find_elements_by_xpath is deprecated. Please use find_elements(by=By.XPATH, value=xpath) instead\n",
      "  page_links=driver.find_elements_by_xpath(\"//ul[@class='a-pagination']/li/a\")\n"
     ]
    }
   ],
   "source": [
    "page_links=driver.find_elements_by_xpath(\"//ul[@class='a-pagination']/li/a\")"
   ]
  },
  {
   "cell_type": "code",
   "execution_count": 11,
   "id": "1842e8f7",
   "metadata": {},
   "outputs": [],
   "source": [
    "for links in page_links:\n",
    "    link.append(links.get_attribute('href'))\n"
   ]
  },
  {
   "cell_type": "code",
   "execution_count": 12,
   "id": "016f7814",
   "metadata": {},
   "outputs": [
    {
     "data": {
      "text/plain": [
       "[]"
      ]
     },
     "execution_count": 12,
     "metadata": {},
     "output_type": "execute_result"
    }
   ],
   "source": [
    "if len(link)>=3:\n",
    "    link=link[:3]\n",
    "else:\n",
    "    link=link\n",
    "link"
   ]
  },
  {
   "cell_type": "code",
   "execution_count": 16,
   "id": "03cab511",
   "metadata": {},
   "outputs": [],
   "source": [
    "#Making empty lists of reuired items to be fetched\n",
    "brand=[]\n",
    "product=[]\n",
    "rating=[]\n",
    "num_ratings=[]\n",
    "price=[]\n",
    "exchange=[]\n",
    "expected_delivery=[]\n",
    "availability=[]\n",
    "other_details=[]\n",
    "product_url=[]"
   ]
  },
  {
   "cell_type": "code",
   "execution_count": 29,
   "id": "82b715af",
   "metadata": {},
   "outputs": [
    {
     "name": "stdout",
     "output_type": "stream",
     "text": [
      "Length of product links: 0\n"
     ]
    }
   ],
   "source": [
    "#Getting links of all products in each page\n",
    "for i in link:\n",
    "    products_link=driver.find_elements_by_xpath('//h2[@class=\"a-size-mini a-spacing-none a-color-base s-line-clamp-2\"]/a[1]')\n",
    "    for products in products_link:\n",
    "        product_url.append(products.get_attribute(\"href\"))\n",
    "print(\"Length of product links:\",len(product_url))\n"
   ]
  },
  {
   "cell_type": "code",
   "execution_count": 18,
   "id": "e4ad87cd",
   "metadata": {},
   "outputs": [
    {
     "name": "stdout",
     "output_type": "stream",
     "text": [
      "Getting the other details\n"
     ]
    }
   ],
   "source": [
    "print(\"Getting the other details\")\n",
    "for url in product_url:\n",
    "    driver.get(url)"
   ]
  },
  {
   "cell_type": "code",
   "execution_count": 20,
   "id": "9ac037c1",
   "metadata": {},
   "outputs": [
    {
     "name": "stderr",
     "output_type": "stream",
     "text": [
      "<ipython-input-20-694a1e7faec3>:3: DeprecationWarning: find_element_by_xpath is deprecated. Please use find_element(by=By.XPATH, value=xpath) instead\n",
      "  brand_tag=driver.find_element_by_xpath('//*[@id=\"productOverview_feature_div\"]/div/table/tbody/tr[3]/td[2]/span')\n"
     ]
    }
   ],
   "source": [
    " #Getting the brand name: \n",
    "try:\n",
    "    brand_tag=driver.find_element_by_xpath('//*[@id=\"productOverview_feature_div\"]/div/table/tbody/tr[3]/td[2]/span')\n",
    "    brand.append(brand_tag.text)\n",
    "except:\n",
    "    brand.append(\"-\")\n",
    "       "
   ]
  },
  {
   "cell_type": "code",
   "execution_count": 21,
   "id": "516f5707",
   "metadata": {},
   "outputs": [
    {
     "name": "stderr",
     "output_type": "stream",
     "text": [
      "<ipython-input-21-e28f8c57abdb>:3: DeprecationWarning: find_element_by_xpath is deprecated. Please use find_element(by=By.XPATH, value=xpath) instead\n",
      "  model_tag=driver.find_element_by_xpath('//*[@id=\"productOverview_feature_div\"]/div/table/tbody/tr[1]/td[2]/span')\n"
     ]
    }
   ],
   "source": [
    " #Getting the model name: \n",
    "try:\n",
    "    model_tag=driver.find_element_by_xpath('//*[@id=\"productOverview_feature_div\"]/div/table/tbody/tr[1]/td[2]/span')\n",
    "    product.append(model_tag.text)\n",
    "except:\n",
    "    product.append(\"-\")"
   ]
  },
  {
   "cell_type": "code",
   "execution_count": 23,
   "id": "78905007",
   "metadata": {},
   "outputs": [
    {
     "name": "stderr",
     "output_type": "stream",
     "text": [
      "<ipython-input-23-ba85f058068e>:3: DeprecationWarning: find_element_by_xpath is deprecated. Please use find_element(by=By.XPATH, value=xpath) instead\n",
      "  ratings_details=driver.find_element_by_xpath('//*[@id=\"reviewsMedley\"]/div/div[1]/div[2]/div[1]/div/div[2]/div/span/span')\n",
      "<ipython-input-23-ba85f058068e>:11: DeprecationWarning: find_element_by_xpath is deprecated. Please use find_element(by=By.XPATH, value=xpath) instead\n",
      "  num_of_ratings=driver.find_element_by_xpath('//*[@id=\"acrCustomerReviewText\"]')\n",
      "<ipython-input-23-ba85f058068e>:19: DeprecationWarning: find_element_by_xpath is deprecated. Please use find_element(by=By.XPATH, value=xpath) instead\n",
      "  price_details=driver.find_element_by_xpath(\"//div[@id='price']/table/tbody/tr[2]/td[2]\")\n",
      "<ipython-input-23-ba85f058068e>:26: DeprecationWarning: find_element_by_xpath is deprecated. Please use find_element(by=By.XPATH, value=xpath) instead\n",
      "  availability_details=driver.find_element_by_xpath('//*[@id=\"availability\"]/span')\n"
     ]
    }
   ],
   "source": [
    "#Getting the ratings\n",
    "try:\n",
    "    ratings_details=driver.find_element_by_xpath('//*[@id=\"reviewsMedley\"]/div/div[1]/div[2]/div[1]/div/div[2]/div/span/span')\n",
    "    ratings=ratings_details.text.split(\" \")\n",
    "    rating.append(ratings[0])\n",
    "except:\n",
    "    rating.append(\"-\")\n",
    "  \n",
    " #Getting the no. of ratings\n",
    "try:\n",
    "    num_of_ratings=driver.find_element_by_xpath('//*[@id=\"acrCustomerReviewText\"]')\n",
    "    num=num_of_ratings.text.split(\" \")\n",
    "    num_ratings.append(num[0])\n",
    "except:\n",
    "    num_ratings.append(\"-\")\n",
    "        \n",
    "    #Getting the price\n",
    "try:\n",
    "    price_details=driver.find_element_by_xpath(\"//div[@id='price']/table/tbody/tr[2]/td[2]\")\n",
    "    price.append(price_details.text)\n",
    "except:\n",
    "    price.append(\"-\")\n",
    "\n",
    "    #Getting the availability details\n",
    "try:\n",
    "    availability_details=driver.find_element_by_xpath('//*[@id=\"availability\"]/span')\n",
    "    availability.append(availability_details.text)\n",
    "except:\n",
    "    availability.append(\"-\")"
   ]
  },
  {
   "cell_type": "code",
   "execution_count": 24,
   "id": "0fb48b03",
   "metadata": {},
   "outputs": [
    {
     "name": "stderr",
     "output_type": "stream",
     "text": [
      "<ipython-input-24-dcee2370b7db>:3: DeprecationWarning: find_element_by_xpath is deprecated. Please use find_element(by=By.XPATH, value=xpath) instead\n",
      "  remaining_details=driver.find_element_by_xpath('//*[@id=\"feature-bullets\"]')\n",
      "<ipython-input-24-dcee2370b7db>:10: DeprecationWarning: find_element_by_xpath is deprecated. Please use find_element(by=By.XPATH, value=xpath) instead\n",
      "  delivery_date=driver.find_element_by_xpath('//*[@id=\"ddmDeliveryMessage\"]')\n",
      "<ipython-input-24-dcee2370b7db>:17: DeprecationWarning: find_element_by_xpath is deprecated. Please use find_element(by=By.XPATH, value=xpath) instead\n",
      "  exchange_tag=driver.find_element_by_xpath('//*[@id=\"RETURNS_POLICY\"]/span/div[2]/a')\n"
     ]
    }
   ],
   "source": [
    "#Getting the remaining details\n",
    "try:\n",
    "    remaining_details=driver.find_element_by_xpath('//*[@id=\"feature-bullets\"]')\n",
    "    other_details.append(remaining_details.text.replace(\"\\n\",\"\").strip())\n",
    "except:\n",
    "    other_details.append(\"-\")\n",
    "       \n",
    "    #Getting the expected delivery date\n",
    "try:\n",
    "    delivery_date=driver.find_element_by_xpath('//*[@id=\"ddmDeliveryMessage\"]')\n",
    "    expected_delivery.append(delivery_date.text)\n",
    "except:\n",
    "    expected_delivery.append(\"-\")\n",
    "          \n",
    "    #Getting the exchange details\n",
    "try:\n",
    "    exchange_tag=driver.find_element_by_xpath('//*[@id=\"RETURNS_POLICY\"]/span/div[2]/a')\n",
    "    exchange.append(exchange_tag.text)\n",
    "except:\n",
    "    exchange.append('-')"
   ]
  },
  {
   "cell_type": "code",
   "execution_count": 25,
   "id": "16cdddcc",
   "metadata": {},
   "outputs": [
    {
     "name": "stdout",
     "output_type": "stream",
     "text": [
      "Length of Brand: 1\n",
      "Length of Product: 1\n",
      "Length of rating: 1\n",
      "Length of num_ratings: 1\n",
      "Length of price: 1\n",
      "Length of other_details: 1\n",
      "Length of expected_delivery: 1\n",
      "Length of availability: 1\n",
      "Length of exchange: 1\n"
     ]
    }
   ],
   "source": [
    "driver.close()          \n",
    "print(\"Length of Brand:\",len(brand))\n",
    "print(\"Length of Product:\",len(product))\n",
    "print(\"Length of rating:\",len(rating))\n",
    "print(\"Length of num_ratings:\",len(num_ratings))\n",
    "print(\"Length of price:\",len(price))\n",
    "print(\"Length of other_details:\",len(other_details))\n",
    "print(\"Length of expected_delivery:\",len(expected_delivery))\n",
    "print(\"Length of availability:\",len(availability))\n",
    "print('Length of exchange:',len(exchange))"
   ]
  },
  {
   "cell_type": "code",
   "execution_count": 27,
   "id": "ab4483cc",
   "metadata": {},
   "outputs": [],
   "source": [
    "amazon=pd.DataFrame({})\n"
   ]
  },
  {
   "cell_type": "code",
   "execution_count": 28,
   "id": "0a62159f",
   "metadata": {},
   "outputs": [
    {
     "ename": "ValueError",
     "evalue": "Length of values (0) does not match length of index (1)",
     "output_type": "error",
     "traceback": [
      "\u001b[1;31m---------------------------------------------------------------------------\u001b[0m",
      "\u001b[1;31mValueError\u001b[0m                                Traceback (most recent call last)",
      "\u001b[1;32m<ipython-input-28-2883a9ec0635>\u001b[0m in \u001b[0;36m<module>\u001b[1;34m\u001b[0m\n\u001b[0;32m      8\u001b[0m \u001b[0mamazon\u001b[0m\u001b[1;33m[\u001b[0m\u001b[1;34m'Details'\u001b[0m\u001b[1;33m]\u001b[0m\u001b[1;33m=\u001b[0m\u001b[0mother_details\u001b[0m\u001b[1;33m\u001b[0m\u001b[1;33m\u001b[0m\u001b[0m\n\u001b[0;32m      9\u001b[0m \u001b[0mamazon\u001b[0m\u001b[1;33m[\u001b[0m\u001b[1;34m'Exchange'\u001b[0m\u001b[1;33m]\u001b[0m\u001b[1;33m=\u001b[0m\u001b[0mexchange\u001b[0m\u001b[1;33m\u001b[0m\u001b[1;33m\u001b[0m\u001b[0m\n\u001b[1;32m---> 10\u001b[1;33m \u001b[0mamazon\u001b[0m\u001b[1;33m[\u001b[0m\u001b[1;34m'Product link'\u001b[0m\u001b[1;33m]\u001b[0m\u001b[1;33m=\u001b[0m\u001b[0mproduct_url\u001b[0m\u001b[1;33m\u001b[0m\u001b[1;33m\u001b[0m\u001b[0m\n\u001b[0m",
      "\u001b[1;32m~\\anaconda3\\lib\\site-packages\\pandas\\core\\frame.py\u001b[0m in \u001b[0;36m__setitem__\u001b[1;34m(self, key, value)\u001b[0m\n\u001b[0;32m   3161\u001b[0m         \u001b[1;32melse\u001b[0m\u001b[1;33m:\u001b[0m\u001b[1;33m\u001b[0m\u001b[1;33m\u001b[0m\u001b[0m\n\u001b[0;32m   3162\u001b[0m             \u001b[1;31m# set column\u001b[0m\u001b[1;33m\u001b[0m\u001b[1;33m\u001b[0m\u001b[1;33m\u001b[0m\u001b[0m\n\u001b[1;32m-> 3163\u001b[1;33m             \u001b[0mself\u001b[0m\u001b[1;33m.\u001b[0m\u001b[0m_set_item\u001b[0m\u001b[1;33m(\u001b[0m\u001b[0mkey\u001b[0m\u001b[1;33m,\u001b[0m \u001b[0mvalue\u001b[0m\u001b[1;33m)\u001b[0m\u001b[1;33m\u001b[0m\u001b[1;33m\u001b[0m\u001b[0m\n\u001b[0m\u001b[0;32m   3164\u001b[0m \u001b[1;33m\u001b[0m\u001b[0m\n\u001b[0;32m   3165\u001b[0m     \u001b[1;32mdef\u001b[0m \u001b[0m_setitem_slice\u001b[0m\u001b[1;33m(\u001b[0m\u001b[0mself\u001b[0m\u001b[1;33m,\u001b[0m \u001b[0mkey\u001b[0m\u001b[1;33m:\u001b[0m \u001b[0mslice\u001b[0m\u001b[1;33m,\u001b[0m \u001b[0mvalue\u001b[0m\u001b[1;33m)\u001b[0m\u001b[1;33m:\u001b[0m\u001b[1;33m\u001b[0m\u001b[1;33m\u001b[0m\u001b[0m\n",
      "\u001b[1;32m~\\anaconda3\\lib\\site-packages\\pandas\\core\\frame.py\u001b[0m in \u001b[0;36m_set_item\u001b[1;34m(self, key, value)\u001b[0m\n\u001b[0;32m   3240\u001b[0m         \"\"\"\n\u001b[0;32m   3241\u001b[0m         \u001b[0mself\u001b[0m\u001b[1;33m.\u001b[0m\u001b[0m_ensure_valid_index\u001b[0m\u001b[1;33m(\u001b[0m\u001b[0mvalue\u001b[0m\u001b[1;33m)\u001b[0m\u001b[1;33m\u001b[0m\u001b[1;33m\u001b[0m\u001b[0m\n\u001b[1;32m-> 3242\u001b[1;33m         \u001b[0mvalue\u001b[0m \u001b[1;33m=\u001b[0m \u001b[0mself\u001b[0m\u001b[1;33m.\u001b[0m\u001b[0m_sanitize_column\u001b[0m\u001b[1;33m(\u001b[0m\u001b[0mkey\u001b[0m\u001b[1;33m,\u001b[0m \u001b[0mvalue\u001b[0m\u001b[1;33m)\u001b[0m\u001b[1;33m\u001b[0m\u001b[1;33m\u001b[0m\u001b[0m\n\u001b[0m\u001b[0;32m   3243\u001b[0m         \u001b[0mNDFrame\u001b[0m\u001b[1;33m.\u001b[0m\u001b[0m_set_item\u001b[0m\u001b[1;33m(\u001b[0m\u001b[0mself\u001b[0m\u001b[1;33m,\u001b[0m \u001b[0mkey\u001b[0m\u001b[1;33m,\u001b[0m \u001b[0mvalue\u001b[0m\u001b[1;33m)\u001b[0m\u001b[1;33m\u001b[0m\u001b[1;33m\u001b[0m\u001b[0m\n\u001b[0;32m   3244\u001b[0m \u001b[1;33m\u001b[0m\u001b[0m\n",
      "\u001b[1;32m~\\anaconda3\\lib\\site-packages\\pandas\\core\\frame.py\u001b[0m in \u001b[0;36m_sanitize_column\u001b[1;34m(self, key, value, broadcast)\u001b[0m\n\u001b[0;32m   3897\u001b[0m \u001b[1;33m\u001b[0m\u001b[0m\n\u001b[0;32m   3898\u001b[0m             \u001b[1;31m# turn me into an ndarray\u001b[0m\u001b[1;33m\u001b[0m\u001b[1;33m\u001b[0m\u001b[1;33m\u001b[0m\u001b[0m\n\u001b[1;32m-> 3899\u001b[1;33m             \u001b[0mvalue\u001b[0m \u001b[1;33m=\u001b[0m \u001b[0msanitize_index\u001b[0m\u001b[1;33m(\u001b[0m\u001b[0mvalue\u001b[0m\u001b[1;33m,\u001b[0m \u001b[0mself\u001b[0m\u001b[1;33m.\u001b[0m\u001b[0mindex\u001b[0m\u001b[1;33m)\u001b[0m\u001b[1;33m\u001b[0m\u001b[1;33m\u001b[0m\u001b[0m\n\u001b[0m\u001b[0;32m   3900\u001b[0m             \u001b[1;32mif\u001b[0m \u001b[1;32mnot\u001b[0m \u001b[0misinstance\u001b[0m\u001b[1;33m(\u001b[0m\u001b[0mvalue\u001b[0m\u001b[1;33m,\u001b[0m \u001b[1;33m(\u001b[0m\u001b[0mnp\u001b[0m\u001b[1;33m.\u001b[0m\u001b[0mndarray\u001b[0m\u001b[1;33m,\u001b[0m \u001b[0mIndex\u001b[0m\u001b[1;33m)\u001b[0m\u001b[1;33m)\u001b[0m\u001b[1;33m:\u001b[0m\u001b[1;33m\u001b[0m\u001b[1;33m\u001b[0m\u001b[0m\n\u001b[0;32m   3901\u001b[0m                 \u001b[1;32mif\u001b[0m \u001b[0misinstance\u001b[0m\u001b[1;33m(\u001b[0m\u001b[0mvalue\u001b[0m\u001b[1;33m,\u001b[0m \u001b[0mlist\u001b[0m\u001b[1;33m)\u001b[0m \u001b[1;32mand\u001b[0m \u001b[0mlen\u001b[0m\u001b[1;33m(\u001b[0m\u001b[0mvalue\u001b[0m\u001b[1;33m)\u001b[0m \u001b[1;33m>\u001b[0m \u001b[1;36m0\u001b[0m\u001b[1;33m:\u001b[0m\u001b[1;33m\u001b[0m\u001b[1;33m\u001b[0m\u001b[0m\n",
      "\u001b[1;32m~\\anaconda3\\lib\\site-packages\\pandas\\core\\internals\\construction.py\u001b[0m in \u001b[0;36msanitize_index\u001b[1;34m(data, index)\u001b[0m\n\u001b[0;32m    749\u001b[0m     \"\"\"\n\u001b[0;32m    750\u001b[0m     \u001b[1;32mif\u001b[0m \u001b[0mlen\u001b[0m\u001b[1;33m(\u001b[0m\u001b[0mdata\u001b[0m\u001b[1;33m)\u001b[0m \u001b[1;33m!=\u001b[0m \u001b[0mlen\u001b[0m\u001b[1;33m(\u001b[0m\u001b[0mindex\u001b[0m\u001b[1;33m)\u001b[0m\u001b[1;33m:\u001b[0m\u001b[1;33m\u001b[0m\u001b[1;33m\u001b[0m\u001b[0m\n\u001b[1;32m--> 751\u001b[1;33m         raise ValueError(\n\u001b[0m\u001b[0;32m    752\u001b[0m             \u001b[1;34m\"Length of values \"\u001b[0m\u001b[1;33m\u001b[0m\u001b[1;33m\u001b[0m\u001b[0m\n\u001b[0;32m    753\u001b[0m             \u001b[1;34mf\"({len(data)}) \"\u001b[0m\u001b[1;33m\u001b[0m\u001b[1;33m\u001b[0m\u001b[0m\n",
      "\u001b[1;31mValueError\u001b[0m: Length of values (0) does not match length of index (1)"
     ]
    }
   ],
   "source": [
    "amazon['Brand']=brand\n",
    "amazon['Name']=product\n",
    "amazon['Rating']=rating\n",
    "amazon['No. Of Ratings']=num_ratings\n",
    "amazon['Price']=price\n",
    "amazon['Delivery']=expected_delivery\n",
    "amazon['Availability']=availability\n",
    "amazon['Details']=other_details\n",
    "amazon['Exchange']=exchange\n",
    "amazon['Product link']=product_url"
   ]
  },
  {
   "cell_type": "markdown",
   "id": "b9397850",
   "metadata": {},
   "source": [
    "# Q3"
   ]
  },
  {
   "cell_type": "code",
   "execution_count": 56,
   "id": "75f86fd6",
   "metadata": {},
   "outputs": [],
   "source": [
    "import os\n",
    "import selenium\n",
    "from selenium import webdriver\n",
    "import time\n",
    "from PIL import Image\n",
    "import io\n",
    "import requests\n",
    "from selenium.common.exceptions import ElementClickInterceptedException"
   ]
  },
  {
   "cell_type": "code",
   "execution_count": 57,
   "id": "b0cbd4ec",
   "metadata": {},
   "outputs": [
    {
     "name": "stderr",
     "output_type": "stream",
     "text": [
      "<ipython-input-57-460221ae0d3e>:1: DeprecationWarning: executable_path has been deprecated, please pass in a Service object\n",
      "  driver= webdriver.Chrome(r\"C:\\Users\\acer\\Downloads\\chromedriver_win32\\chromedriver.exe\")\n"
     ]
    }
   ],
   "source": [
    "driver= webdriver.Chrome(r\"C:\\Users\\acer\\Downloads\\chromedriver_win32\\chromedriver.exe\")"
   ]
  },
  {
   "cell_type": "code",
   "execution_count": 58,
   "id": "08075eca",
   "metadata": {},
   "outputs": [],
   "source": [
    "driver.get('https://www.google.co.in/imghp?hl=en&ogbl')\n",
    "time.sleep(5)"
   ]
  },
  {
   "cell_type": "code",
   "execution_count": 59,
   "id": "aa338505",
   "metadata": {},
   "outputs": [
    {
     "name": "stderr",
     "output_type": "stream",
     "text": [
      "<ipython-input-59-b91aecd4e554>:1: DeprecationWarning: find_element_by_name is deprecated. Please use find_element(by=By.NAME, value=name) instead\n",
      "  search_bar=driver.find_element_by_name('q')\n"
     ]
    }
   ],
   "source": [
    "search_bar=driver.find_element_by_name('q')\n",
    "search_bar.send_keys('Fruits')"
   ]
  },
  {
   "cell_type": "code",
   "execution_count": 63,
   "id": "6c624d5c",
   "metadata": {},
   "outputs": [
    {
     "name": "stderr",
     "output_type": "stream",
     "text": [
      "<ipython-input-63-64b35e6746fd>:1: DeprecationWarning: find_element_by_xpath is deprecated. Please use find_element(by=By.XPATH, value=xpath) instead\n",
      "  search=driver.find_element_by_xpath(\"//div[@class='zgAlFc']\")\n"
     ]
    }
   ],
   "source": [
    "search=driver.find_element_by_xpath(\"//div[@class='zgAlFc']\")\n"
   ]
  },
  {
   "cell_type": "code",
   "execution_count": 64,
   "id": "77009c8e",
   "metadata": {},
   "outputs": [],
   "source": [
    "search.click()"
   ]
  },
  {
   "cell_type": "code",
   "execution_count": 65,
   "id": "26db0a12",
   "metadata": {},
   "outputs": [],
   "source": [
    "driver.execute_script(\"window.scrollTo(0, document.body.scrollHeight);\")"
   ]
  },
  {
   "cell_type": "code",
   "execution_count": 66,
   "id": "18221fee",
   "metadata": {},
   "outputs": [],
   "source": [
    "time.sleep(5)"
   ]
  },
  {
   "cell_type": "code",
   "execution_count": 67,
   "id": "17fb7680",
   "metadata": {},
   "outputs": [
    {
     "name": "stderr",
     "output_type": "stream",
     "text": [
      "<ipython-input-67-fdd5a575ce13>:2: DeprecationWarning: find_elements_by_xpath is deprecated. Please use find_elements(by=By.XPATH, value=xpath) instead\n",
      "  imgResults = driver.find_elements_by_xpath(\"//img[contains(@class,'Q4LuWd')]\")\n"
     ]
    }
   ],
   "source": [
    "#Locate the images to be scraped from the current page \n",
    "imgResults = driver.find_elements_by_xpath(\"//img[contains(@class,'Q4LuWd')]\")\n",
    "totalResults=len(imgResults)"
   ]
  },
  {
   "cell_type": "code",
   "execution_count": 68,
   "id": "4d914254",
   "metadata": {},
   "outputs": [],
   "source": [
    "img_urls = set()"
   ]
  },
  {
   "cell_type": "code",
   "execution_count": 69,
   "id": "ab439534",
   "metadata": {},
   "outputs": [],
   "source": [
    "for i in  range(0,len(imgResults)):\n",
    "    img=imgResults[i]"
   ]
  },
  {
   "cell_type": "code",
   "execution_count": 74,
   "id": "7133461c",
   "metadata": {},
   "outputs": [
    {
     "ename": "ElementNotInteractableException",
     "evalue": "Message: element not interactable\n  (Session info: chrome=101.0.4951.67)\nStacktrace:\nBacktrace:\n\tOrdinal0 [0x00787413+2389011]\n\tOrdinal0 [0x00719F61+1941345]\n\tOrdinal0 [0x0060C520+836896]\n\tOrdinal0 [0x0063A1F3+1024499]\n\tOrdinal0 [0x0062FF93+982931]\n\tOrdinal0 [0x0065414C+1130828]\n\tOrdinal0 [0x0062F974+981364]\n\tOrdinal0 [0x00654364+1131364]\n\tOrdinal0 [0x00664302+1196802]\n\tOrdinal0 [0x00653F66+1130342]\n\tOrdinal0 [0x0062E546+976198]\n\tOrdinal0 [0x0062F456+980054]\n\tGetHandleVerifier [0x00939632+1727522]\n\tGetHandleVerifier [0x009EBA4D+2457661]\n\tGetHandleVerifier [0x0081EB81+569713]\n\tGetHandleVerifier [0x0081DD76+566118]\n\tOrdinal0 [0x00720B2B+1968939]\n\tOrdinal0 [0x00725988+1989000]\n\tOrdinal0 [0x00725A75+1989237]\n\tOrdinal0 [0x0072ECB1+2026673]\n\tBaseThreadInitThunk [0x7593FA29+25]\n\tRtlGetAppContainerNamedObjectPath [0x778F7A7E+286]\n\tRtlGetAppContainerNamedObjectPath [0x778F7A4E+238]\n",
     "output_type": "error",
     "traceback": [
      "\u001b[1;31m---------------------------------------------------------------------------\u001b[0m",
      "\u001b[1;31mElementNotInteractableException\u001b[0m           Traceback (most recent call last)",
      "\u001b[1;32m<ipython-input-74-abe0ea57a587>\u001b[0m in \u001b[0;36m<module>\u001b[1;34m\u001b[0m\n\u001b[0;32m      1\u001b[0m \u001b[1;32mtry\u001b[0m\u001b[1;33m:\u001b[0m\u001b[1;33m\u001b[0m\u001b[1;33m\u001b[0m\u001b[0m\n\u001b[1;32m----> 2\u001b[1;33m     \u001b[0mimg\u001b[0m\u001b[1;33m.\u001b[0m\u001b[0mclick\u001b[0m\u001b[1;33m(\u001b[0m\u001b[1;33m)\u001b[0m\u001b[1;33m\u001b[0m\u001b[1;33m\u001b[0m\u001b[0m\n\u001b[0m\u001b[0;32m      3\u001b[0m     \u001b[0mactual_images\u001b[0m \u001b[1;33m=\u001b[0m \u001b[0mdriver\u001b[0m\u001b[1;33m.\u001b[0m\u001b[0mfind_elements_by_css_selector\u001b[0m\u001b[1;33m(\u001b[0m\u001b[1;34m'img.n3VNCb'\u001b[0m\u001b[1;33m)\u001b[0m\u001b[1;33m\u001b[0m\u001b[1;33m\u001b[0m\u001b[0m\n\u001b[0;32m      4\u001b[0m     \u001b[1;32mfor\u001b[0m \u001b[0mactual_image\u001b[0m \u001b[1;32min\u001b[0m \u001b[0mactual_images\u001b[0m\u001b[1;33m:\u001b[0m\u001b[1;33m\u001b[0m\u001b[1;33m\u001b[0m\u001b[0m\n\u001b[0;32m      5\u001b[0m         \u001b[1;32mif\u001b[0m \u001b[0mactual_image\u001b[0m\u001b[1;33m.\u001b[0m\u001b[0mget_attribute\u001b[0m\u001b[1;33m(\u001b[0m\u001b[1;34m'src'\u001b[0m\u001b[1;33m)\u001b[0m \u001b[1;32mand\u001b[0m \u001b[1;34m'https'\u001b[0m \u001b[1;32min\u001b[0m \u001b[0mactual_image\u001b[0m\u001b[1;33m.\u001b[0m\u001b[0mget_attribute\u001b[0m\u001b[1;33m(\u001b[0m\u001b[1;34m'src'\u001b[0m\u001b[1;33m)\u001b[0m\u001b[1;33m:\u001b[0m\u001b[1;33m\u001b[0m\u001b[1;33m\u001b[0m\u001b[0m\n",
      "\u001b[1;32m~\\anaconda3\\lib\\site-packages\\selenium\\webdriver\\remote\\webelement.py\u001b[0m in \u001b[0;36mclick\u001b[1;34m(self)\u001b[0m\n\u001b[0;32m     79\u001b[0m     \u001b[1;32mdef\u001b[0m \u001b[0mclick\u001b[0m\u001b[1;33m(\u001b[0m\u001b[0mself\u001b[0m\u001b[1;33m)\u001b[0m \u001b[1;33m->\u001b[0m \u001b[1;32mNone\u001b[0m\u001b[1;33m:\u001b[0m\u001b[1;33m\u001b[0m\u001b[1;33m\u001b[0m\u001b[0m\n\u001b[0;32m     80\u001b[0m         \u001b[1;34m\"\"\"Clicks the element.\"\"\"\u001b[0m\u001b[1;33m\u001b[0m\u001b[1;33m\u001b[0m\u001b[0m\n\u001b[1;32m---> 81\u001b[1;33m         \u001b[0mself\u001b[0m\u001b[1;33m.\u001b[0m\u001b[0m_execute\u001b[0m\u001b[1;33m(\u001b[0m\u001b[0mCommand\u001b[0m\u001b[1;33m.\u001b[0m\u001b[0mCLICK_ELEMENT\u001b[0m\u001b[1;33m)\u001b[0m\u001b[1;33m\u001b[0m\u001b[1;33m\u001b[0m\u001b[0m\n\u001b[0m\u001b[0;32m     82\u001b[0m \u001b[1;33m\u001b[0m\u001b[0m\n\u001b[0;32m     83\u001b[0m     \u001b[1;32mdef\u001b[0m \u001b[0msubmit\u001b[0m\u001b[1;33m(\u001b[0m\u001b[0mself\u001b[0m\u001b[1;33m)\u001b[0m\u001b[1;33m:\u001b[0m\u001b[1;33m\u001b[0m\u001b[1;33m\u001b[0m\u001b[0m\n",
      "\u001b[1;32m~\\anaconda3\\lib\\site-packages\\selenium\\webdriver\\remote\\webelement.py\u001b[0m in \u001b[0;36m_execute\u001b[1;34m(self, command, params)\u001b[0m\n\u001b[0;32m    708\u001b[0m             \u001b[0mparams\u001b[0m \u001b[1;33m=\u001b[0m \u001b[1;33m{\u001b[0m\u001b[1;33m}\u001b[0m\u001b[1;33m\u001b[0m\u001b[1;33m\u001b[0m\u001b[0m\n\u001b[0;32m    709\u001b[0m         \u001b[0mparams\u001b[0m\u001b[1;33m[\u001b[0m\u001b[1;34m'id'\u001b[0m\u001b[1;33m]\u001b[0m \u001b[1;33m=\u001b[0m \u001b[0mself\u001b[0m\u001b[1;33m.\u001b[0m\u001b[0m_id\u001b[0m\u001b[1;33m\u001b[0m\u001b[1;33m\u001b[0m\u001b[0m\n\u001b[1;32m--> 710\u001b[1;33m         \u001b[1;32mreturn\u001b[0m \u001b[0mself\u001b[0m\u001b[1;33m.\u001b[0m\u001b[0m_parent\u001b[0m\u001b[1;33m.\u001b[0m\u001b[0mexecute\u001b[0m\u001b[1;33m(\u001b[0m\u001b[0mcommand\u001b[0m\u001b[1;33m,\u001b[0m \u001b[0mparams\u001b[0m\u001b[1;33m)\u001b[0m\u001b[1;33m\u001b[0m\u001b[1;33m\u001b[0m\u001b[0m\n\u001b[0m\u001b[0;32m    711\u001b[0m \u001b[1;33m\u001b[0m\u001b[0m\n\u001b[0;32m    712\u001b[0m     \u001b[1;32mdef\u001b[0m \u001b[0mfind_element\u001b[0m\u001b[1;33m(\u001b[0m\u001b[0mself\u001b[0m\u001b[1;33m,\u001b[0m \u001b[0mby\u001b[0m\u001b[1;33m=\u001b[0m\u001b[0mBy\u001b[0m\u001b[1;33m.\u001b[0m\u001b[0mID\u001b[0m\u001b[1;33m,\u001b[0m \u001b[0mvalue\u001b[0m\u001b[1;33m=\u001b[0m\u001b[1;32mNone\u001b[0m\u001b[1;33m)\u001b[0m\u001b[1;33m:\u001b[0m\u001b[1;33m\u001b[0m\u001b[1;33m\u001b[0m\u001b[0m\n",
      "\u001b[1;32m~\\anaconda3\\lib\\site-packages\\selenium\\webdriver\\remote\\webdriver.py\u001b[0m in \u001b[0;36mexecute\u001b[1;34m(self, driver_command, params)\u001b[0m\n\u001b[0;32m    423\u001b[0m         \u001b[0mresponse\u001b[0m \u001b[1;33m=\u001b[0m \u001b[0mself\u001b[0m\u001b[1;33m.\u001b[0m\u001b[0mcommand_executor\u001b[0m\u001b[1;33m.\u001b[0m\u001b[0mexecute\u001b[0m\u001b[1;33m(\u001b[0m\u001b[0mdriver_command\u001b[0m\u001b[1;33m,\u001b[0m \u001b[0mparams\u001b[0m\u001b[1;33m)\u001b[0m\u001b[1;33m\u001b[0m\u001b[1;33m\u001b[0m\u001b[0m\n\u001b[0;32m    424\u001b[0m         \u001b[1;32mif\u001b[0m \u001b[0mresponse\u001b[0m\u001b[1;33m:\u001b[0m\u001b[1;33m\u001b[0m\u001b[1;33m\u001b[0m\u001b[0m\n\u001b[1;32m--> 425\u001b[1;33m             \u001b[0mself\u001b[0m\u001b[1;33m.\u001b[0m\u001b[0merror_handler\u001b[0m\u001b[1;33m.\u001b[0m\u001b[0mcheck_response\u001b[0m\u001b[1;33m(\u001b[0m\u001b[0mresponse\u001b[0m\u001b[1;33m)\u001b[0m\u001b[1;33m\u001b[0m\u001b[1;33m\u001b[0m\u001b[0m\n\u001b[0m\u001b[0;32m    426\u001b[0m             response['value'] = self._unwrap_value(\n\u001b[0;32m    427\u001b[0m                 response.get('value', None))\n",
      "\u001b[1;32m~\\anaconda3\\lib\\site-packages\\selenium\\webdriver\\remote\\errorhandler.py\u001b[0m in \u001b[0;36mcheck_response\u001b[1;34m(self, response)\u001b[0m\n\u001b[0;32m    245\u001b[0m                 \u001b[0malert_text\u001b[0m \u001b[1;33m=\u001b[0m \u001b[0mvalue\u001b[0m\u001b[1;33m[\u001b[0m\u001b[1;34m'alert'\u001b[0m\u001b[1;33m]\u001b[0m\u001b[1;33m.\u001b[0m\u001b[0mget\u001b[0m\u001b[1;33m(\u001b[0m\u001b[1;34m'text'\u001b[0m\u001b[1;33m)\u001b[0m\u001b[1;33m\u001b[0m\u001b[1;33m\u001b[0m\u001b[0m\n\u001b[0;32m    246\u001b[0m             \u001b[1;32mraise\u001b[0m \u001b[0mexception_class\u001b[0m\u001b[1;33m(\u001b[0m\u001b[0mmessage\u001b[0m\u001b[1;33m,\u001b[0m \u001b[0mscreen\u001b[0m\u001b[1;33m,\u001b[0m \u001b[0mstacktrace\u001b[0m\u001b[1;33m,\u001b[0m \u001b[0malert_text\u001b[0m\u001b[1;33m)\u001b[0m  \u001b[1;31m# type: ignore[call-arg]  # mypy is not smart enough here\u001b[0m\u001b[1;33m\u001b[0m\u001b[1;33m\u001b[0m\u001b[0m\n\u001b[1;32m--> 247\u001b[1;33m         \u001b[1;32mraise\u001b[0m \u001b[0mexception_class\u001b[0m\u001b[1;33m(\u001b[0m\u001b[0mmessage\u001b[0m\u001b[1;33m,\u001b[0m \u001b[0mscreen\u001b[0m\u001b[1;33m,\u001b[0m \u001b[0mstacktrace\u001b[0m\u001b[1;33m)\u001b[0m\u001b[1;33m\u001b[0m\u001b[1;33m\u001b[0m\u001b[0m\n\u001b[0m\u001b[0;32m    248\u001b[0m \u001b[1;33m\u001b[0m\u001b[0m\n\u001b[0;32m    249\u001b[0m     \u001b[1;32mdef\u001b[0m \u001b[0m_value_or_default\u001b[0m\u001b[1;33m(\u001b[0m\u001b[0mself\u001b[0m\u001b[1;33m,\u001b[0m \u001b[0mobj\u001b[0m\u001b[1;33m:\u001b[0m \u001b[0mMapping\u001b[0m\u001b[1;33m[\u001b[0m\u001b[0m_KT\u001b[0m\u001b[1;33m,\u001b[0m \u001b[0m_VT\u001b[0m\u001b[1;33m]\u001b[0m\u001b[1;33m,\u001b[0m \u001b[0mkey\u001b[0m\u001b[1;33m:\u001b[0m \u001b[0m_KT\u001b[0m\u001b[1;33m,\u001b[0m \u001b[0mdefault\u001b[0m\u001b[1;33m:\u001b[0m \u001b[0m_VT\u001b[0m\u001b[1;33m)\u001b[0m \u001b[1;33m->\u001b[0m \u001b[0m_VT\u001b[0m\u001b[1;33m:\u001b[0m\u001b[1;33m\u001b[0m\u001b[1;33m\u001b[0m\u001b[0m\n",
      "\u001b[1;31mElementNotInteractableException\u001b[0m: Message: element not interactable\n  (Session info: chrome=101.0.4951.67)\nStacktrace:\nBacktrace:\n\tOrdinal0 [0x00787413+2389011]\n\tOrdinal0 [0x00719F61+1941345]\n\tOrdinal0 [0x0060C520+836896]\n\tOrdinal0 [0x0063A1F3+1024499]\n\tOrdinal0 [0x0062FF93+982931]\n\tOrdinal0 [0x0065414C+1130828]\n\tOrdinal0 [0x0062F974+981364]\n\tOrdinal0 [0x00654364+1131364]\n\tOrdinal0 [0x00664302+1196802]\n\tOrdinal0 [0x00653F66+1130342]\n\tOrdinal0 [0x0062E546+976198]\n\tOrdinal0 [0x0062F456+980054]\n\tGetHandleVerifier [0x00939632+1727522]\n\tGetHandleVerifier [0x009EBA4D+2457661]\n\tGetHandleVerifier [0x0081EB81+569713]\n\tGetHandleVerifier [0x0081DD76+566118]\n\tOrdinal0 [0x00720B2B+1968939]\n\tOrdinal0 [0x00725988+1989000]\n\tOrdinal0 [0x00725A75+1989237]\n\tOrdinal0 [0x0072ECB1+2026673]\n\tBaseThreadInitThunk [0x7593FA29+25]\n\tRtlGetAppContainerNamedObjectPath [0x778F7A7E+286]\n\tRtlGetAppContainerNamedObjectPath [0x778F7A4E+238]\n"
     ]
    }
   ],
   "source": [
    "try:\n",
    "    img.click()\n",
    "    actual_images = driver.find_elements_by_css_selector('img.n3VNCb')\n",
    "    for actual_image in actual_images:\n",
    "        if actual_image.get_attribute('src') and 'https' in actual_image.get_attribute('src'):\n",
    "            img_urls.add(actual_image.get_attribute('src'))\n",
    "except ElementClickInterceptedException or ElementNotInteractableException as err:\n",
    "    print(err)"
   ]
  },
  {
   "cell_type": "markdown",
   "id": "0391af1f",
   "metadata": {},
   "source": [
    "# Q4"
   ]
  },
  {
   "cell_type": "code",
   "execution_count": 76,
   "id": "05251730",
   "metadata": {},
   "outputs": [],
   "source": [
    "from selenium.common.exceptions import NoSuchElementException\n"
   ]
  },
  {
   "cell_type": "code",
   "execution_count": 77,
   "id": "c3c685c4",
   "metadata": {},
   "outputs": [
    {
     "name": "stdout",
     "output_type": "stream",
     "text": [
      "Enter the item you want to find: vivo\n"
     ]
    }
   ],
   "source": [
    "#Taking the input from user \n",
    "product=input(\"Enter the item you want to find: \")"
   ]
  },
  {
   "cell_type": "code",
   "execution_count": 78,
   "id": "2ac94a85",
   "metadata": {},
   "outputs": [
    {
     "name": "stderr",
     "output_type": "stream",
     "text": [
      "<ipython-input-78-460221ae0d3e>:1: DeprecationWarning: executable_path has been deprecated, please pass in a Service object\n",
      "  driver= webdriver.Chrome(r\"C:\\Users\\acer\\Downloads\\chromedriver_win32\\chromedriver.exe\")\n"
     ]
    }
   ],
   "source": [
    "driver= webdriver.Chrome(r\"C:\\Users\\acer\\Downloads\\chromedriver_win32\\chromedriver.exe\")"
   ]
  },
  {
   "cell_type": "code",
   "execution_count": 79,
   "id": "0f8a7d1c",
   "metadata": {},
   "outputs": [],
   "source": [
    "driver.get(\"https://www.flipkart.com/\")\n",
    "time.sleep(3)"
   ]
  },
  {
   "cell_type": "code",
   "execution_count": 80,
   "id": "4967984c",
   "metadata": {},
   "outputs": [
    {
     "name": "stderr",
     "output_type": "stream",
     "text": [
      "<ipython-input-80-11ee4f89a0c2>:3: DeprecationWarning: find_element_by_xpath is deprecated. Please use find_element(by=By.XPATH, value=xpath) instead\n",
      "  popup=driver.find_element_by_xpath(\"//button[@class='_2KpZ6l _2doB4z']\")\n"
     ]
    }
   ],
   "source": [
    "#Closing the popup\n",
    "try:\n",
    "    popup=driver.find_element_by_xpath(\"//button[@class='_2KpZ6l _2doB4z']\")\n",
    "    popup.click()\n",
    "except:\n",
    "    pass"
   ]
  },
  {
   "cell_type": "code",
   "execution_count": 81,
   "id": "8cbf5e61",
   "metadata": {},
   "outputs": [
    {
     "name": "stderr",
     "output_type": "stream",
     "text": [
      "<ipython-input-81-f6f2643a86ec>:2: DeprecationWarning: find_element_by_name is deprecated. Please use find_element(by=By.NAME, value=name) instead\n",
      "  search_bar=driver.find_element_by_name('q')\n",
      "<ipython-input-81-f6f2643a86ec>:6: DeprecationWarning: find_element_by_class_name is deprecated. Please use find_element(by=By.CLASS_NAME, value=name) instead\n",
      "  search_button=driver.find_element_by_class_name(\"L0Z3Pu\")\n"
     ]
    }
   ],
   "source": [
    "#Finding the search bar in website\n",
    "search_bar=driver.find_element_by_name('q')\n",
    "search_bar.send_keys(product)\n",
    "\n",
    "#Finding and Clicking on the search button\n",
    "search_button=driver.find_element_by_class_name(\"L0Z3Pu\")\n",
    "search_button.click()\n",
    "driver.implicitly_wait(1)"
   ]
  },
  {
   "cell_type": "code",
   "execution_count": 82,
   "id": "d9b40c81",
   "metadata": {},
   "outputs": [],
   "source": [
    "links=[]"
   ]
  },
  {
   "cell_type": "code",
   "execution_count": 83,
   "id": "460bfdbd",
   "metadata": {},
   "outputs": [
    {
     "name": "stderr",
     "output_type": "stream",
     "text": [
      "<ipython-input-83-1a9bb8ae1146>:2: DeprecationWarning: find_elements_by_xpath is deprecated. Please use find_elements(by=By.XPATH, value=xpath) instead\n",
      "  productlinks=driver.find_elements_by_xpath(\"//div[@class='_1AtVbE col-12-12']/div[1]/div[1]/div[1]/a[1]\")\n"
     ]
    }
   ],
   "source": [
    "#Getting the links of all products\n",
    "productlinks=driver.find_elements_by_xpath(\"//div[@class='_1AtVbE col-12-12']/div[1]/div[1]/div[1]/a[1]\")\n",
    "for i in productlinks:\n",
    "    links.append(i.get_attribute('href'))"
   ]
  },
  {
   "cell_type": "code",
   "execution_count": 84,
   "id": "3da594ed",
   "metadata": {},
   "outputs": [
    {
     "name": "stdout",
     "output_type": "stream",
     "text": [
      "24\n"
     ]
    }
   ],
   "source": [
    "print(len(links))"
   ]
  },
  {
   "cell_type": "code",
   "execution_count": 85,
   "id": "a9073a9f",
   "metadata": {},
   "outputs": [],
   "source": [
    "brand=[]\n",
    "mobile=[]\n",
    "color=[]\n",
    "ram=[]\n",
    "rom=[]\n",
    "pcam=[]\n",
    "fcam=[]\n",
    "ds=[]\n",
    "dr=[]\n",
    "proc=[]\n",
    "core=[]\n",
    "bat=[]\n",
    "price=[]"
   ]
  },
  {
   "cell_type": "code",
   "execution_count": 86,
   "id": "d4c32429",
   "metadata": {},
   "outputs": [
    {
     "name": "stderr",
     "output_type": "stream",
     "text": [
      "<ipython-input-86-3e633924d60d>:2: DeprecationWarning: find_elements_by_xpath is deprecated. Please use find_elements(by=By.XPATH, value=xpath) instead\n",
      "  brand_details=driver.find_elements_by_xpath('//div[@class=\"_4rR01T\"]')\n"
     ]
    }
   ],
   "source": [
    "#Brand\n",
    "brand_details=driver.find_elements_by_xpath('//div[@class=\"_4rR01T\"]')\n",
    "for i in brand_details:\n",
    "    brands=i.text.split(' ')\n",
    "    brand.append(brands[0])"
   ]
  },
  {
   "cell_type": "code",
   "execution_count": 87,
   "id": "de1fdac4",
   "metadata": {},
   "outputs": [
    {
     "name": "stderr",
     "output_type": "stream",
     "text": [
      "<ipython-input-87-65fd7b885dde>:3: DeprecationWarning: find_elements_by_xpath is deprecated. Please use find_elements(by=By.XPATH, value=xpath) instead\n",
      "  mobile_name=driver.find_elements_by_xpath('//div[@class=\"_4rR01T\"]')\n",
      "<ipython-input-87-65fd7b885dde>:11: DeprecationWarning: find_elements_by_xpath is deprecated. Please use find_elements(by=By.XPATH, value=xpath) instead\n",
      "  prices=driver.find_elements_by_xpath('//div[@class=\"_3tbKJL\"]/div[1]/div[1]')\n",
      "<ipython-input-87-65fd7b885dde>:19: DeprecationWarning: find_elements_by_xpath is deprecated. Please use find_elements(by=By.XPATH, value=xpath) instead\n",
      "  ram_details=driver.find_elements_by_xpath(\"//ul[@class='_1xgFaf']/li[1]\")\n"
     ]
    }
   ],
   "source": [
    "#Mobile name\n",
    "try:\n",
    "    mobile_name=driver.find_elements_by_xpath('//div[@class=\"_4rR01T\"]')\n",
    "    for i in mobile_name:\n",
    "        mobile.append(i.text)\n",
    "except:\n",
    "    mobile.appenb('-')\n",
    "    \n",
    "#Price details\n",
    "try:\n",
    "    prices=driver.find_elements_by_xpath('//div[@class=\"_3tbKJL\"]/div[1]/div[1]')\n",
    "    for i in prices:\n",
    "        price.append(i.text)\n",
    "except:\n",
    "    price.append('-')\n",
    "\n",
    "#Ram details\n",
    "try:\n",
    "    ram_details=driver.find_elements_by_xpath(\"//ul[@class='_1xgFaf']/li[1]\")\n",
    "    rams=[i.text.split('|') for i in ram_details]\n",
    "    for i in rams:\n",
    "        if len(i)>1:\n",
    "            ram.append(i[0])\n",
    "        else:\n",
    "            ram.append('-')\n",
    "except:\n",
    "    ram.append('-')"
   ]
  },
  {
   "cell_type": "code",
   "execution_count": 88,
   "id": "bd81ae56",
   "metadata": {},
   "outputs": [
    {
     "name": "stdout",
     "output_type": "stream",
     "text": [
      "24 24\n"
     ]
    }
   ],
   "source": [
    "try:\n",
    "    for i in rams:\n",
    "        if len(i)>1:\n",
    "            rom.append(i[1])\n",
    "        else:\n",
    "            rom.append('-')\n",
    "except:\n",
    "    rom.append('-')\n",
    "print(len(ram), len(rom))\n"
   ]
  },
  {
   "cell_type": "code",
   "execution_count": 89,
   "id": "165a3b51",
   "metadata": {},
   "outputs": [
    {
     "name": "stderr",
     "output_type": "stream",
     "text": [
      "<ipython-input-89-f174d5101507>:3: DeprecationWarning: find_elements_by_xpath is deprecated. Please use find_elements(by=By.XPATH, value=xpath) instead\n",
      "  display_size=driver.find_elements_by_xpath('//ul[@class=\"_1xgFaf\"]/li[2]')\n"
     ]
    }
   ],
   "source": [
    "#Getting Display\n",
    "try:\n",
    "    display_size=driver.find_elements_by_xpath('//ul[@class=\"_1xgFaf\"]/li[2]')\n",
    "    for i in display_size:\n",
    "        ds.append(i.text)\n",
    "except:\n",
    "    ds.append('-')\n"
   ]
  },
  {
   "cell_type": "code",
   "execution_count": 90,
   "id": "1092269a",
   "metadata": {},
   "outputs": [
    {
     "name": "stderr",
     "output_type": "stream",
     "text": [
      "<ipython-input-90-0595aa8148bf>:3: DeprecationWarning: find_elements_by_xpath is deprecated. Please use find_elements(by=By.XPATH, value=xpath) instead\n",
      "  cam_details=driver.find_elements_by_xpath(\"//ul[@class='_1xgFaf']/li[3]\")\n"
     ]
    },
    {
     "name": "stdout",
     "output_type": "stream",
     "text": [
      "24 24\n"
     ]
    }
   ],
   "source": [
    "#Camera details\n",
    "try:\n",
    "    cam_details=driver.find_elements_by_xpath(\"//ul[@class='_1xgFaf']/li[3]\")\n",
    "    cams=[i.text.split('|') for i in cam_details]\n",
    "    for i in cams:\n",
    "        if len(i)>1:\n",
    "            pcam.append(i[0])\n",
    "        else:\n",
    "            pcam.append('-')\n",
    "except:\n",
    "    pcam.append('-')\n",
    "\n",
    "try:\n",
    "    for i in cams:\n",
    "        if len(i)>1:\n",
    "            fcam.append(i[1])\n",
    "        else:\n",
    "            fcam.append('-')\n",
    "except:\n",
    "    fcam.append('-')\n",
    "print(len(pcam), len(fcam))\n",
    "      "
   ]
  },
  {
   "cell_type": "code",
   "execution_count": 93,
   "id": "4683769b",
   "metadata": {},
   "outputs": [
    {
     "name": "stderr",
     "output_type": "stream",
     "text": [
      "<ipython-input-93-ead05f05abba>:3: DeprecationWarning: find_elements_by_xpath is deprecated. Please use find_elements(by=By.XPATH, value=xpath) instead\n",
      "  bat_details=driver.find_elements_by_xpath(\"//ul[@class='_1xgFaf']/li[4]\")\n"
     ]
    }
   ],
   "source": [
    "#Battery details\n",
    "try:\n",
    "    bat_details=driver.find_elements_by_xpath(\"//ul[@class='_1xgFaf']/li[4]\")\n",
    "    for i in bat_details:\n",
    "        bat.append(i.text)\n",
    "except:\n",
    "    bat.append('-')\n",
    "\n",
    "#Accesing the each link\n",
    "for link in links:\n",
    "    driver.get(link)\n",
    "    "
   ]
  },
  {
   "cell_type": "code",
   "execution_count": 95,
   "id": "9ae6941d",
   "metadata": {},
   "outputs": [
    {
     "name": "stderr",
     "output_type": "stream",
     "text": [
      "<ipython-input-95-52872ef2a13e>:3: DeprecationWarning: find_element_by_xpath is deprecated. Please use find_element(by=By.XPATH, value=xpath) instead\n",
      "  rdmore=driver.find_element_by_xpath('//button[@class=\"_2KpZ6l _1FH0tX\"]').click()\n"
     ]
    }
   ],
   "source": [
    "#Readmore option\n",
    "try:\n",
    "    rdmore=driver.find_element_by_xpath('//button[@class=\"_2KpZ6l _1FH0tX\"]').click()\n",
    "    \n",
    "except NoSuchElementException:\n",
    "    pass\n"
   ]
  },
  {
   "cell_type": "code",
   "execution_count": 96,
   "id": "1763b366",
   "metadata": {},
   "outputs": [
    {
     "name": "stderr",
     "output_type": "stream",
     "text": [
      "<ipython-input-96-ee264074e746>:3: DeprecationWarning: find_element_by_xpath is deprecated. Please use find_element(by=By.XPATH, value=xpath) instead\n",
      "  colors=driver.find_element_by_xpath('//div[@class=\"_1UhVsV _3AsE0T\"]/div[1]/table[1]/tbody/tr[4]/td[2]')\n",
      "<ipython-input-96-ee264074e746>:10: DeprecationWarning: find_element_by_xpath is deprecated. Please use find_element(by=By.XPATH, value=xpath) instead\n",
      "  display_resolution=driver.find_element_by_xpath('//div[@class=\"_1UhVsV\"]/div[2]/table[1]/tbody/tr[2]/td[2]')\n"
     ]
    }
   ],
   "source": [
    "#Getting color\n",
    "try:\n",
    "    colors=driver.find_element_by_xpath('//div[@class=\"_1UhVsV _3AsE0T\"]/div[1]/table[1]/tbody/tr[4]/td[2]')\n",
    "    color.append(colors.text)\n",
    "except:\n",
    "    color.append('-')\n",
    "        \n",
    "    #Getting display resolution\n",
    "try:\n",
    "    display_resolution=driver.find_element_by_xpath('//div[@class=\"_1UhVsV\"]/div[2]/table[1]/tbody/tr[2]/td[2]')\n",
    "    dr.append(display_resolution.text)\n",
    "except:\n",
    "    dr.append('-')"
   ]
  },
  {
   "cell_type": "code",
   "execution_count": 97,
   "id": "16a1dc4b",
   "metadata": {},
   "outputs": [
    {
     "name": "stderr",
     "output_type": "stream",
     "text": [
      "<ipython-input-97-18e755d52a29>:3: DeprecationWarning: find_element_by_xpath is deprecated. Please use find_element(by=By.XPATH, value=xpath) instead\n",
      "  cores=driver.find_element_by_xpath('//div[@class=\"_1UhVsV\"]/div[3]/table[1]/tbody/tr[3]/td[2]')\n",
      "<ipython-input-97-18e755d52a29>:10: DeprecationWarning: find_element_by_xpath is deprecated. Please use find_element(by=By.XPATH, value=xpath) instead\n",
      "  proc_details=driver.find_element_by_xpath(\"//div[@class='_2418kt']/ul/li[5]\")\n"
     ]
    }
   ],
   "source": [
    "#Getting core details\n",
    "try:\n",
    "    cores=driver.find_element_by_xpath('//div[@class=\"_1UhVsV\"]/div[3]/table[1]/tbody/tr[3]/td[2]')\n",
    "    core.append(cores.text)\n",
    "except:\n",
    "    core.append('-')\n",
    "        \n",
    "#Processor details\n",
    "try:\n",
    "    proc_details=driver.find_element_by_xpath(\"//div[@class='_2418kt']/ul/li[5]\")\n",
    "    proc.append(proc_details.text)\n",
    "except:\n",
    "    proc.append('-')\n",
    "        "
   ]
  },
  {
   "cell_type": "code",
   "execution_count": 99,
   "id": "c85b95c8",
   "metadata": {},
   "outputs": [],
   "source": [
    "#Creating and entering dataframe\n",
    "flipkart=pd.DataFrame({})"
   ]
  },
  {
   "cell_type": "code",
   "execution_count": 101,
   "id": "4790a4ba",
   "metadata": {},
   "outputs": [
    {
     "ename": "ValueError",
     "evalue": "Length of values (1) does not match length of index (24)",
     "output_type": "error",
     "traceback": [
      "\u001b[1;31m---------------------------------------------------------------------------\u001b[0m",
      "\u001b[1;31mValueError\u001b[0m                                Traceback (most recent call last)",
      "\u001b[1;32m<ipython-input-101-ff839b70967b>\u001b[0m in \u001b[0;36m<module>\u001b[1;34m\u001b[0m\n\u001b[0;32m      6\u001b[0m \u001b[0mflipkart\u001b[0m\u001b[1;33m[\u001b[0m\u001b[1;34m'Front camera'\u001b[0m\u001b[1;33m]\u001b[0m\u001b[1;33m=\u001b[0m\u001b[0mfcam\u001b[0m\u001b[1;33m\u001b[0m\u001b[1;33m\u001b[0m\u001b[0m\n\u001b[0;32m      7\u001b[0m \u001b[0mflipkart\u001b[0m\u001b[1;33m[\u001b[0m\u001b[1;34m'Display'\u001b[0m\u001b[1;33m]\u001b[0m\u001b[1;33m=\u001b[0m\u001b[0mds\u001b[0m\u001b[1;33m\u001b[0m\u001b[1;33m\u001b[0m\u001b[0m\n\u001b[1;32m----> 8\u001b[1;33m \u001b[0mflipkart\u001b[0m\u001b[1;33m[\u001b[0m\u001b[1;34m'Display Resolution'\u001b[0m\u001b[1;33m]\u001b[0m\u001b[1;33m=\u001b[0m\u001b[0mdr\u001b[0m\u001b[1;33m\u001b[0m\u001b[1;33m\u001b[0m\u001b[0m\n\u001b[0m\u001b[0;32m      9\u001b[0m \u001b[0mflipkart\u001b[0m\u001b[1;33m[\u001b[0m\u001b[1;34m'Processor'\u001b[0m\u001b[1;33m]\u001b[0m\u001b[1;33m=\u001b[0m\u001b[0mproc\u001b[0m\u001b[1;33m\u001b[0m\u001b[1;33m\u001b[0m\u001b[0m\n\u001b[0;32m     10\u001b[0m \u001b[0mflipkart\u001b[0m\u001b[1;33m[\u001b[0m\u001b[1;34m'Processor core'\u001b[0m\u001b[1;33m]\u001b[0m\u001b[1;33m=\u001b[0m\u001b[0mcore\u001b[0m\u001b[1;33m\u001b[0m\u001b[1;33m\u001b[0m\u001b[0m\n",
      "\u001b[1;32m~\\anaconda3\\lib\\site-packages\\pandas\\core\\frame.py\u001b[0m in \u001b[0;36m__setitem__\u001b[1;34m(self, key, value)\u001b[0m\n\u001b[0;32m   3161\u001b[0m         \u001b[1;32melse\u001b[0m\u001b[1;33m:\u001b[0m\u001b[1;33m\u001b[0m\u001b[1;33m\u001b[0m\u001b[0m\n\u001b[0;32m   3162\u001b[0m             \u001b[1;31m# set column\u001b[0m\u001b[1;33m\u001b[0m\u001b[1;33m\u001b[0m\u001b[1;33m\u001b[0m\u001b[0m\n\u001b[1;32m-> 3163\u001b[1;33m             \u001b[0mself\u001b[0m\u001b[1;33m.\u001b[0m\u001b[0m_set_item\u001b[0m\u001b[1;33m(\u001b[0m\u001b[0mkey\u001b[0m\u001b[1;33m,\u001b[0m \u001b[0mvalue\u001b[0m\u001b[1;33m)\u001b[0m\u001b[1;33m\u001b[0m\u001b[1;33m\u001b[0m\u001b[0m\n\u001b[0m\u001b[0;32m   3164\u001b[0m \u001b[1;33m\u001b[0m\u001b[0m\n\u001b[0;32m   3165\u001b[0m     \u001b[1;32mdef\u001b[0m \u001b[0m_setitem_slice\u001b[0m\u001b[1;33m(\u001b[0m\u001b[0mself\u001b[0m\u001b[1;33m,\u001b[0m \u001b[0mkey\u001b[0m\u001b[1;33m:\u001b[0m \u001b[0mslice\u001b[0m\u001b[1;33m,\u001b[0m \u001b[0mvalue\u001b[0m\u001b[1;33m)\u001b[0m\u001b[1;33m:\u001b[0m\u001b[1;33m\u001b[0m\u001b[1;33m\u001b[0m\u001b[0m\n",
      "\u001b[1;32m~\\anaconda3\\lib\\site-packages\\pandas\\core\\frame.py\u001b[0m in \u001b[0;36m_set_item\u001b[1;34m(self, key, value)\u001b[0m\n\u001b[0;32m   3240\u001b[0m         \"\"\"\n\u001b[0;32m   3241\u001b[0m         \u001b[0mself\u001b[0m\u001b[1;33m.\u001b[0m\u001b[0m_ensure_valid_index\u001b[0m\u001b[1;33m(\u001b[0m\u001b[0mvalue\u001b[0m\u001b[1;33m)\u001b[0m\u001b[1;33m\u001b[0m\u001b[1;33m\u001b[0m\u001b[0m\n\u001b[1;32m-> 3242\u001b[1;33m         \u001b[0mvalue\u001b[0m \u001b[1;33m=\u001b[0m \u001b[0mself\u001b[0m\u001b[1;33m.\u001b[0m\u001b[0m_sanitize_column\u001b[0m\u001b[1;33m(\u001b[0m\u001b[0mkey\u001b[0m\u001b[1;33m,\u001b[0m \u001b[0mvalue\u001b[0m\u001b[1;33m)\u001b[0m\u001b[1;33m\u001b[0m\u001b[1;33m\u001b[0m\u001b[0m\n\u001b[0m\u001b[0;32m   3243\u001b[0m         \u001b[0mNDFrame\u001b[0m\u001b[1;33m.\u001b[0m\u001b[0m_set_item\u001b[0m\u001b[1;33m(\u001b[0m\u001b[0mself\u001b[0m\u001b[1;33m,\u001b[0m \u001b[0mkey\u001b[0m\u001b[1;33m,\u001b[0m \u001b[0mvalue\u001b[0m\u001b[1;33m)\u001b[0m\u001b[1;33m\u001b[0m\u001b[1;33m\u001b[0m\u001b[0m\n\u001b[0;32m   3244\u001b[0m \u001b[1;33m\u001b[0m\u001b[0m\n",
      "\u001b[1;32m~\\anaconda3\\lib\\site-packages\\pandas\\core\\frame.py\u001b[0m in \u001b[0;36m_sanitize_column\u001b[1;34m(self, key, value, broadcast)\u001b[0m\n\u001b[0;32m   3897\u001b[0m \u001b[1;33m\u001b[0m\u001b[0m\n\u001b[0;32m   3898\u001b[0m             \u001b[1;31m# turn me into an ndarray\u001b[0m\u001b[1;33m\u001b[0m\u001b[1;33m\u001b[0m\u001b[1;33m\u001b[0m\u001b[0m\n\u001b[1;32m-> 3899\u001b[1;33m             \u001b[0mvalue\u001b[0m \u001b[1;33m=\u001b[0m \u001b[0msanitize_index\u001b[0m\u001b[1;33m(\u001b[0m\u001b[0mvalue\u001b[0m\u001b[1;33m,\u001b[0m \u001b[0mself\u001b[0m\u001b[1;33m.\u001b[0m\u001b[0mindex\u001b[0m\u001b[1;33m)\u001b[0m\u001b[1;33m\u001b[0m\u001b[1;33m\u001b[0m\u001b[0m\n\u001b[0m\u001b[0;32m   3900\u001b[0m             \u001b[1;32mif\u001b[0m \u001b[1;32mnot\u001b[0m \u001b[0misinstance\u001b[0m\u001b[1;33m(\u001b[0m\u001b[0mvalue\u001b[0m\u001b[1;33m,\u001b[0m \u001b[1;33m(\u001b[0m\u001b[0mnp\u001b[0m\u001b[1;33m.\u001b[0m\u001b[0mndarray\u001b[0m\u001b[1;33m,\u001b[0m \u001b[0mIndex\u001b[0m\u001b[1;33m)\u001b[0m\u001b[1;33m)\u001b[0m\u001b[1;33m:\u001b[0m\u001b[1;33m\u001b[0m\u001b[1;33m\u001b[0m\u001b[0m\n\u001b[0;32m   3901\u001b[0m                 \u001b[1;32mif\u001b[0m \u001b[0misinstance\u001b[0m\u001b[1;33m(\u001b[0m\u001b[0mvalue\u001b[0m\u001b[1;33m,\u001b[0m \u001b[0mlist\u001b[0m\u001b[1;33m)\u001b[0m \u001b[1;32mand\u001b[0m \u001b[0mlen\u001b[0m\u001b[1;33m(\u001b[0m\u001b[0mvalue\u001b[0m\u001b[1;33m)\u001b[0m \u001b[1;33m>\u001b[0m \u001b[1;36m0\u001b[0m\u001b[1;33m:\u001b[0m\u001b[1;33m\u001b[0m\u001b[1;33m\u001b[0m\u001b[0m\n",
      "\u001b[1;32m~\\anaconda3\\lib\\site-packages\\pandas\\core\\internals\\construction.py\u001b[0m in \u001b[0;36msanitize_index\u001b[1;34m(data, index)\u001b[0m\n\u001b[0;32m    749\u001b[0m     \"\"\"\n\u001b[0;32m    750\u001b[0m     \u001b[1;32mif\u001b[0m \u001b[0mlen\u001b[0m\u001b[1;33m(\u001b[0m\u001b[0mdata\u001b[0m\u001b[1;33m)\u001b[0m \u001b[1;33m!=\u001b[0m \u001b[0mlen\u001b[0m\u001b[1;33m(\u001b[0m\u001b[0mindex\u001b[0m\u001b[1;33m)\u001b[0m\u001b[1;33m:\u001b[0m\u001b[1;33m\u001b[0m\u001b[1;33m\u001b[0m\u001b[0m\n\u001b[1;32m--> 751\u001b[1;33m         raise ValueError(\n\u001b[0m\u001b[0;32m    752\u001b[0m             \u001b[1;34m\"Length of values \"\u001b[0m\u001b[1;33m\u001b[0m\u001b[1;33m\u001b[0m\u001b[0m\n\u001b[0;32m    753\u001b[0m             \u001b[1;34mf\"({len(data)}) \"\u001b[0m\u001b[1;33m\u001b[0m\u001b[1;33m\u001b[0m\u001b[0m\n",
      "\u001b[1;31mValueError\u001b[0m: Length of values (1) does not match length of index (24)"
     ]
    }
   ],
   "source": [
    "flipkart['Brand']=brand\n",
    "flipkart['Mobile']=mobile\n",
    "flipkart['Ram']=ram\n",
    "flipkart['Storage']=rom\n",
    "flipkart['Primary camera']=pcam\n",
    "flipkart['Front camera']=fcam\n",
    "flipkart['Display']=ds\n",
    "flipkart['Display Resolution']=dr\n",
    "flipkart['Processor']=proc\n",
    "flipkart['Processor core']=core\n",
    "flipkart['Battery']=bat\n",
    "flipkart['Price']=price\n",
    "flipkart['Product_url']=links "
   ]
  },
  {
   "cell_type": "markdown",
   "id": "800d25bf",
   "metadata": {},
   "source": [
    "# Q5"
   ]
  },
  {
   "cell_type": "code",
   "execution_count": 102,
   "id": "9bd2adef",
   "metadata": {},
   "outputs": [
    {
     "name": "stdout",
     "output_type": "stream",
     "text": [
      "Enter the city to get its coordinats:london\n"
     ]
    }
   ],
   "source": [
    "#Taking the input\n",
    "city=input(\"Enter the city to get its coordinats:\")"
   ]
  },
  {
   "cell_type": "code",
   "execution_count": 103,
   "id": "84572dc4",
   "metadata": {},
   "outputs": [
    {
     "name": "stderr",
     "output_type": "stream",
     "text": [
      "<ipython-input-103-460221ae0d3e>:1: DeprecationWarning: executable_path has been deprecated, please pass in a Service object\n",
      "  driver= webdriver.Chrome(r\"C:\\Users\\acer\\Downloads\\chromedriver_win32\\chromedriver.exe\")\n"
     ]
    }
   ],
   "source": [
    "driver= webdriver.Chrome(r\"C:\\Users\\acer\\Downloads\\chromedriver_win32\\chromedriver.exe\")"
   ]
  },
  {
   "cell_type": "code",
   "execution_count": 104,
   "id": "e7b5c4bf",
   "metadata": {},
   "outputs": [],
   "source": [
    "driver.get('https://www.google.com/maps')"
   ]
  },
  {
   "cell_type": "code",
   "execution_count": 105,
   "id": "25f079ea",
   "metadata": {},
   "outputs": [
    {
     "name": "stderr",
     "output_type": "stream",
     "text": [
      "<ipython-input-105-d178480f6622>:2: DeprecationWarning: find_element_by_name is deprecated. Please use find_element(by=By.NAME, value=name) instead\n",
      "  search_bar=driver.find_element_by_name(\"q\")\n",
      "<ipython-input-105-d178480f6622>:6: DeprecationWarning: find_element_by_* commands are deprecated. Please use find_element() instead\n",
      "  search_btn=driver.find_element_by_id('searchbox-searchbutton')\n"
     ]
    },
    {
     "name": "stdout",
     "output_type": "stream",
     "text": [
      "co-ordinates of london: ['26.9058048', '75.7694464']\n"
     ]
    }
   ],
   "source": [
    "#Finding the searchbar and sending keys into it\n",
    "search_bar=driver.find_element_by_name(\"q\")\n",
    "search_bar.send_keys(city)\n",
    "\n",
    "#finding the search button and clicking\n",
    "search_btn=driver.find_element_by_id('searchbox-searchbutton')\n",
    "search_btn.click()\n",
    "time.sleep(5)\n",
    "\n",
    "#Getting current url\n",
    "cityurl=driver.current_url\n",
    "urls=cityurl.split('@')\n",
    "loc=urls[1].split(',')\n",
    "coordinates=loc[:2]\n",
    "\n",
    "#Printing the coordinates of the city\n",
    "print(f'co-ordinates of {city}:',coordinates)"
   ]
  },
  {
   "cell_type": "code",
   "execution_count": null,
   "id": "3bdb0073",
   "metadata": {},
   "outputs": [],
   "source": []
  }
 ],
 "metadata": {
  "kernelspec": {
   "display_name": "Python 3",
   "language": "python",
   "name": "python3"
  },
  "language_info": {
   "codemirror_mode": {
    "name": "ipython",
    "version": 3
   },
   "file_extension": ".py",
   "mimetype": "text/x-python",
   "name": "python",
   "nbconvert_exporter": "python",
   "pygments_lexer": "ipython3",
   "version": "3.8.8"
  }
 },
 "nbformat": 4,
 "nbformat_minor": 5
}
